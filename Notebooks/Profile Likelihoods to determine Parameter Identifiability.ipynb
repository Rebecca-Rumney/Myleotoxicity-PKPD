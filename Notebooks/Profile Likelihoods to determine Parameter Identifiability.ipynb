{
 "cells": [
  {
   "attachments": {},
   "cell_type": "markdown",
   "id": "independent-heading",
   "metadata": {},
   "source": [
    "# Parameter Identifiability\n",
    "\n",
    "If you wish to infer the parameters of a model from data, it would be useful to ensure the parameters can be reliably inferred. If not then the results and any further analysis could be significantly affected and not reproducible. In this notebook, I will teach you how to determine parameter identifiability by going through an example."
   ]
  },
  {
   "cell_type": "code",
   "execution_count": 1,
   "id": "nonprofit-contrary",
   "metadata": {},
   "outputs": [],
   "source": [
    "import pandas as pd\n",
    "import numpy as np\n",
    "import matplotlib.pyplot as plt\n",
    "from scipy import integrate, optimize\n",
    "\n",
    "image_file = \"../Images/parameter_identifiability/\""
   ]
  },
  {
   "attachments": {},
   "cell_type": "markdown",
   "id": "numeric-geography",
   "metadata": {},
   "source": [
    "## The model\n",
    "\n",
    "The example I will be using throughout this notebook is a two-compartment Pharmacokinetic (PK) model. PK models are mathematical models of the concentration of the drug throughout the body over time. In the two-compartment model the body is abstracted into a central compartment (that encompasses blood plasma) and a peripheral compartment. At time $t=0$, the drug is injected straight into the central compartment. Over time, the drug is then transferred between the central and peripheral compartments, and is also cleared from the central compartment. This model is given by the following system of ordinary differential equations (ODEs),\n",
    "        \\begin{align*}\n",
    "        \\dot{A_c} =& - K_\\textrm{cl}\\frac{A_c}{V_c} - K_i\\left(\\frac{A_c}{V_c} - \\frac{A_p}{V_p}\\right),\\\\\n",
    "        \\dot{A_p} =& K_p\\left(\\frac{A_c}{V_c} - \\frac{A_p}{V_p}\\right),\n",
    "        \\end{align*}\n",
    "where $A_c$ and $A_p$ are the masses of drug in the central and peripheral compartments, respectively, $V_c$ and $V_p$ are the volumes of the central and peripheral compartments, respectively, $K_\\textrm{cl} >0$ is the rate of clearance from the central compartment and $K_p >0$ is the rate of transfer between the central compartment and the peripheral compartment. Our first step is to build a class with a function that takes a time series and list of parameter values as input and outputs the time course of $C_c = A_c/V_c$."
   ]
  },
  {
   "cell_type": "code",
   "execution_count": 2,
   "id": "pleased-carrier",
   "metadata": {},
   "outputs": [],
   "source": [
    "class PKLin2Comp():\n",
    "    def __init__(self, dose):\n",
    "        self.n_parameters = 4\n",
    "        self.dose = dose\n",
    "        self.params = None\n",
    "        \n",
    "    def set_params(self, parameter):\n",
    "        self.params = {\n",
    "            \"V_c\": parameter[0],\n",
    "            \"K_cl\": parameter[1],\n",
    "            \"V_p\": parameter[2],\n",
    "            \"K_p\": parameter[3]\n",
    "        }\n",
    "        \n",
    "    \n",
    "    def ODE(self, A, t):\n",
    "        \"\"\"\n",
    "            Takes the current amount of drug, A, in the compartments and time, t, and returns dA_dt\n",
    "        \"\"\"\n",
    "        dA_c_dt = (\n",
    "            self.params[\"K_p\"]*(A[1]/self.params[\"V_p\"]) -\n",
    "            (self.params[\"K_p\"]+self.params[\"K_cl\"])*(A[0]/self.params[\"V_c\"])\n",
    "        )\n",
    "        dA_p_dt = (\n",
    "            self.params[\"K_p\"]*((A[0]/self.params[\"V_c\"]) - (A[1]/self.params[\"V_p\"]))\n",
    "        )\n",
    "\n",
    "        dA_dt = np.asarray([dA_c_dt, dA_p_dt])\n",
    "\n",
    "        return dA_dt\n",
    "    \n",
    "    \n",
    "    def solve(self, times):\n",
    "        \"\"\"\n",
    "            Solves the PK system of ODEs\n",
    "        \"\"\"\n",
    "        \n",
    "        # Set the initial condition.\n",
    "        A_0 = [self.dose, 0]\n",
    "\n",
    "        # Get the solution to the ODEs\n",
    "        results_amt = integrate.odeint(\n",
    "            self.ODE,\n",
    "            A_0,\n",
    "            times,\n",
    "#             rtol=1.49012e-12,\n",
    "#             atol=1.49012e-12\n",
    "#             hmax = 1e-4\n",
    "            )\n",
    "\n",
    "        # Convert amount of drug to concentration of drug\n",
    "        results_conc = results_amt/np.asarray([self.params[\"V_c\"], self.params[\"V_p\"]])\n",
    "        return results_conc\n",
    "    \n",
    "    def simulate(self, parameter, times):\n",
    "        \"\"\"\n",
    "            Returns the concentration of drug over time, given a set of parameters. Assumes that dosing happens at time t=0\n",
    "        \"\"\"\n",
    "        \n",
    "        self.set_params(parameter)\n",
    "        \n",
    "        if times[0] == 0:\n",
    "            return self.solve(times)[:]\n",
    "        elif times[0] > 0:  \n",
    "            # If the times do not start at 0 then odeint will begin simulation at the first timepoint.\n",
    "            # However our model assumes dosing happens at t=0 so we will need to add 0 to the times array and\n",
    "            # then ignore the result at t=0.\n",
    "            times = np.concatenate((np.array([0]), times))\n",
    "            return self.solve(times)[1:]\n",
    "        elif times[0] < 0:  \n",
    "            # If the times start before t=0 then we will need to return 0 for all the negative time points and\n",
    "            # then start the simulation after those.\n",
    "            times_after_zero = times[times >= 0]\n",
    "            zeros = np.zeros((len(times) - len(times_after_zero), 2))\n",
    "            times_after_zero = np.concatenate((np.array([0]), times_after_zero))\n",
    "            \n",
    "            return np.concatenate((zeros, self.solve(times_after_zero)[1:]))"
   ]
  },
  {
   "attachments": {},
   "cell_type": "markdown",
   "id": "animated-gross",
   "metadata": {},
   "source": [
    "Now that the model has been built, we can see what the resulting concentration-time profiles of this model are."
   ]
  },
  {
   "cell_type": "code",
   "execution_count": 3,
   "id": "freelance-internship",
   "metadata": {},
   "outputs": [
    {
     "name": "stderr",
     "output_type": "stream",
     "text": [
      "<ipython-input-3-2711ec517093>:25: UserWarning: Matplotlib is currently using module://ipykernel.pylab.backend_inline, which is a non-GUI backend, so cannot show the figure.\n",
      "  fig.show()\n"
     ]
    },
    {
     "data": {
      "image/png": "[encoded data removed]",
      "text/plain": [
       "<Figure size 432x288 with 2 Axes>"
      ]
     },
     "metadata": {
      "needs_background": "light"
     },
     "output_type": "display_data"
    }
   ],
   "source": [
    "doses = [1.0, 2.0, 4.0] # mg\n",
    "PK_param_names = [\"V_c\", \"K_cl\", \"V_P\", \"K_p\"]\n",
    "PK_param_value = [1,     2.8,    4.8,   2.3]\n",
    "\n",
    "fig, ax = plt.subplots(2, 1)\n",
    "times = np.linspace(-0.01, 5, 1000)\n",
    "\n",
    "for dose in doses:\n",
    "    PK_model = PKLin2Comp(dose)\n",
    "    solution = PK_model.simulate(PK_param_value, times)\n",
    "    \n",
    "    ax[0].plot(\n",
    "        times,\n",
    "        solution[:, 0],\n",
    "        label='Dose: '+str(dose)\n",
    "        )\n",
    "    ax[1].plot(\n",
    "        times,\n",
    "        solution[:,1],\n",
    "        )\n",
    "\n",
    "ax[0].set_yscale(\"log\")\n",
    "ax[1].set_yscale(\"log\") # It is easier to view the graph on a log scale\n",
    "fig.legend()\n",
    "fig.show()"
   ]
  },
  {
   "attachments": {},
   "cell_type": "markdown",
   "id": "empirical-syndication",
   "metadata": {},
   "source": [
    "## The data\n",
    "\n",
    "If you are performing parameter inference, this requires data to infer the parameters from. This data is also used in parameter identifiability. For this example, I will generate some data from the model to use in place of experimental data. In experiments the observation is usually of the concentration of drug in the blood stream and so we are only concerned with the central compartment."
   ]
  },
  {
   "cell_type": "code",
   "execution_count": 4,
   "id": "about-theta",
   "metadata": {},
   "outputs": [
    {
     "data": {
      "text/html": [
       "<div>\n",
       "<style scoped>\n",
       "    .dataframe tbody tr th:only-of-type {\n",
       "        vertical-align: middle;\n",
       "    }\n",
       "\n",
       "    .dataframe tbody tr th {\n",
       "        vertical-align: top;\n",
       "    }\n",
       "\n",
       "    .dataframe thead th {\n",
       "        text-align: right;\n",
       "    }\n",
       "</style>\n",
       "<table border=\"1\" class=\"dataframe\">\n",
       "  <thead>\n",
       "    <tr style=\"text-align: right;\">\n",
       "      <th></th>\n",
       "      <th>TIME</th>\n",
       "      <th>OBS</th>\n",
       "    </tr>\n",
       "  </thead>\n",
       "  <tbody>\n",
       "    <tr>\n",
       "      <th>0</th>\n",
       "      <td>0.100</td>\n",
       "      <td>0.922239</td>\n",
       "    </tr>\n",
       "    <tr>\n",
       "      <th>1</th>\n",
       "      <td>1.325</td>\n",
       "      <td>0.070370</td>\n",
       "    </tr>\n",
       "    <tr>\n",
       "      <th>2</th>\n",
       "      <td>2.550</td>\n",
       "      <td>0.043447</td>\n",
       "    </tr>\n",
       "    <tr>\n",
       "      <th>3</th>\n",
       "      <td>3.775</td>\n",
       "      <td>0.035829</td>\n",
       "    </tr>\n",
       "    <tr>\n",
       "      <th>4</th>\n",
       "      <td>5.000</td>\n",
       "      <td>0.028234</td>\n",
       "    </tr>\n",
       "  </tbody>\n",
       "</table>\n",
       "</div>"
      ],
      "text/plain": [
       "    TIME       OBS\n",
       "0  0.100  0.922239\n",
       "1  1.325  0.070370\n",
       "2  2.550  0.043447\n",
       "3  3.775  0.035829\n",
       "4  5.000  0.028234"
      ]
     },
     "execution_count": 4,
     "metadata": {},
     "output_type": "execute_result"
    }
   ],
   "source": [
    "dose_amount = 2.0\n",
    "\n",
    "PK_model = PKLin2Comp(dose_amount)\n",
    "data_times = np.linspace(0.1, 5, 5) # In vivo PK data tends to be very sparse\n",
    "values_no_noise = PK_model.simulate(PK_param_value, data_times)[:,0]\n",
    "\n",
    "# We will use multiplicative gaussian noise to generate to data as that is commonly seen in experimental PK data\n",
    "sigma = 0.1\n",
    "noise = np.random.normal(0, sigma, len(data_times))\n",
    "values_noisey = values_no_noise*(1+noise)\n",
    "\n",
    "df = pd.DataFrame()\n",
    "df[\"TIME\"] = data_times\n",
    "df[\"OBS\"] = values_noisey\n",
    "df"
   ]
  },
  {
   "attachments": {},
   "cell_type": "markdown",
   "id": "overall-vault",
   "metadata": {},
   "source": [
    "We can also visualise the data on a graph:"
   ]
  },
  {
   "cell_type": "code",
   "execution_count": 5,
   "id": "above-grass",
   "metadata": {},
   "outputs": [
    {
     "data": {
      "image/png": "[encoded data removed]",
      "text/plain": [
       "<Figure size 432x288 with 1 Axes>"
      ]
     },
     "metadata": {
      "needs_background": "light"
     },
     "output_type": "display_data"
    }
   ],
   "source": [
    "# dose_amount = 2.0\n",
    "# PK_model = PKLin2Comp(dose_amount)\n",
    "\n",
    "more_times = np.linspace(-0.01, max(data_times),1000)\n",
    "more_values = PK_model.simulate(PK_param_value, more_times)[:,0]\n",
    "\n",
    "plt.plot(df[\"TIME\"], df[\"OBS\"], '.')\n",
    "plt.plot(more_times, more_values)\n",
    "plt.yscale(\"log\")"
   ]
  },
  {
   "attachments": {},
   "cell_type": "markdown",
   "id": "accessory-local",
   "metadata": {},
   "source": [
    "## Maximum likelihood\n",
    "\n",
    "A common approach to parameter inference is to maximise the probability the data, $X^{obs}$, was generated by the model with parameters, $\\theta \\in \\Theta$, over the parameter space $\\Theta$. This probability, $P\\left(X^{obs}|\\theta\\right)$, is called the likelihood. Let's test whether the parameters of our PK model, $\\theta = (V_c, K_{cl}, V_P, K_p, \\sigma)$, are similarly inferred each time we run the simulation. \n",
    "\n",
    "First we need to define the likelihood. For this example, I will use a multiplicative gaussian likelihood as multiplicative noise was used to generate the data. In most caes we will not know the exact type of noise present in a data set and so some assumptions will need to be made. The Likelihood can be calculated as the product of point-wise likelihoods,\n",
    "\\begin{equation*}\n",
    "    P\\left(X^\\textrm{obs}|\\theta\\right) = \\prod_{x^{obs}_i \\in X^\\textrm{obs}} P\\left(x^{obs}_i|\\theta\\right).\n",
    "\\end{equation*}\n",
    "Alternatively, a computationally easier but equivalent optimisation is the log-likelihood,\n",
    "\\begin{equation*}\n",
    "    \\log\\left(P\\left(X^\\textrm{obs}|\\theta\\right)\\right) = \\sum_{x^{obs}_i \\in X^\\textrm{obs}} \\log\\left(P\\left(x^{obs}_i|\\theta\\right)\\right),\n",
    "\\end{equation*}\n",
    "As we are using a multiplicative Gaussian noise, each of these pointwise observations are expected to be normally distributed around the true value, $\\mu_i$, i.e.  $x^{obs}_i \\sim N\\left(\\mu_i, \\sigma_i^2\\right)$ where $\\sigma_i$ is the standard deviation of the observation at time $t=t_i$. Thus the pointwise likelihood can be formulated as a Gaussian distribution,\n",
    "\\begin{align*}\n",
    "    P\\left(x^{obs}_i|\\theta\\right) &= P\\left(x^{obs}_i|\\mu_i = x^{\\theta}\\left(t_i\\right), \\sigma_i = \\sigma x^\\theta\\left(t_i\\right)\\right) \\\\\n",
    "    &= \\frac{1}{\\sigma x^\\theta\\left(t_i\\right)\\sqrt{2\\pi}}e^{-\\frac{1}{2}\\left(x^{obs}_i - x^\\theta\\left(t_i\\right)\\right)^2\\left(\\sigma x^\\theta\\left(t_i\\right)\\right)^{-2} },\n",
    "\\end{align*}\n",
    "where $x^{\\theta}$ is the simulated dynamical model under parameters $\\theta$. Thus the log-likelihood is \n",
    "\\begin{align*}\n",
    "    \\log \\left(P\\left(X^{obs}|\\theta\\right)\\right) &= \\sum_{x^{obs}_i \\in X^\\textrm{obs}} \\left(-\\frac{1}{2}\\log\\left(2\\pi\\right) -\\log\\left(\\sigma x^\\theta\\left(t_i\\right)\\right) -\\frac{1}{2}\\left(\\frac{x^{obs}_i - x^\\theta\\left(t_i\\right)}{\\sigma x^\\theta\\left(t_i\\right)}\\right)^2\\right).\n",
    "\\end{align*}\n",
    "\n",
    "So now let's build a function that returns this likelihood. Our optimisation algorithm finds the minimum of a function and so our function neeeds to return $-\\log \\left(P\\left(X^{obs}|\\theta\\right)\\right)$ as the minimum of this is the maximum of the log-likelihood."
   ]
  },
  {
   "cell_type": "code",
   "execution_count": 6,
   "id": "prerequisite-skiing",
   "metadata": {},
   "outputs": [
    {
     "name": "stdout",
     "output_type": "stream",
     "text": [
      "Log-Likelihood of parameters theta = [1, 2.8, 4.8, 2.3, 0.1] is 15.514012073206807\n"
     ]
    }
   ],
   "source": [
    "def minus_log_likelihood(parameters, times, observations):\n",
    "    sigma = parameters[-1]\n",
    "    n_obs = len(times)\n",
    "    x_theta = PK_model.simulate(parameters[:-1], times)[:,0]\n",
    "    if any(x_theta<=0):\n",
    "        x_theta[x_theta<=0] = 1e-20 # Numerical errors can turn up negative results which affects likelihood calculation\n",
    "    term_1 = 0.5*n_obs*np.log(2*np.pi)\n",
    "#     print(term_1)\n",
    "    term_2 = np.sum(np.log(sigma*x_theta))\n",
    "#     print(sigma*x_theta)\n",
    "    term_3 = (0.5/sigma**2) * np.sum((observations - x_theta)**2/x_theta**2)\n",
    "#     print(term_3)\n",
    "    log_likelihood = term_1 + term_2 + term_3\n",
    "    return log_likelihood\n",
    "print(\"Log-Likelihood of parameters theta =\", PK_param_value+[sigma], \"is\", -minus_log_likelihood(PK_param_value+[sigma], df[\"TIME\"], df[\"OBS\"]))"
   ]
  },
  {
   "attachments": {},
   "cell_type": "markdown",
   "id": "aerial-ontario",
   "metadata": {},
   "source": [
    "Using the first two points in the data we can make an initial estimate in the value of $V_c$. We can then use this to help our optimiser narrow into the correct value quicker."
   ]
  },
  {
   "cell_type": "code",
   "execution_count": 7,
   "id": "bound-technician",
   "metadata": {},
   "outputs": [
    {
     "name": "stdout",
     "output_type": "stream",
     "text": [
      "Aproximate V_C: 2.0165783733813094\n"
     ]
    }
   ],
   "source": [
    "point_1 = (df['TIME'][0], df['OBS'][0])\n",
    "point_2 = (df['TIME'][1], df['OBS'][1])\n",
    "y_0 = point_1[1] - (point_1[1] - point_2[1])/(point_1[0] - point_2[0]) * point_1[0]\n",
    "V_c_approx = dose_amount/y_0\n",
    "print(\"Aproximate V_C:\", V_c_approx)"
   ]
  },
  {
   "attachments": {},
   "cell_type": "markdown",
   "id": "billion-banana",
   "metadata": {},
   "source": [
    "Now to optimise. We will use the global optimiser difeferential evolution."
   ]
  },
  {
   "cell_type": "code",
   "execution_count": 8,
   "id": "killing-bibliography",
   "metadata": {},
   "outputs": [
    {
     "name": "stdout",
     "output_type": "stream",
     "text": [
      "Run 0 optimum: [1.6013948  2.64132883 6.66092655 2.25678574 0.00960539] , log likelihood: 28.899531202996705\n",
      "Run 1 optimum: [1.60139424 2.64132886 6.66092379 2.25678583 0.00960564] , log likelihood: 28.89953120468422\n",
      "Run 2 optimum: [1.60139467 2.6413296  6.66091981 2.25678612 0.00960554] , log likelihood: 28.89953120573028\n",
      "Run 3 optimum: [1.60139497 2.64132976 6.66092181 2.25678672 0.00960555] , log likelihood: 28.899531205453073\n",
      "Run 4 optimum: [0.61257155 3.27569622 7.77118696 4.71559308 0.0625769 ] , log likelihood: 19.519360565475065\n"
     ]
    }
   ],
   "source": [
    "#Set the boundaries of the search space\n",
    "bounds = [\n",
    "    (0.1*V_c_approx, 10*V_c_approx), # V_c\n",
    "    (0.01, 100),  # K_cl\n",
    "    (0.01*V_c_approx, 100*V_c_approx),  # V_p\n",
    "    (0.01, 100),  # K_p\n",
    "    (0.0001, 1)  # sigma\n",
    "]\n",
    "\n",
    "# Now lets optimize 5 times and see what the outcome of each optimisation is. This can take a little bit of time.\n",
    "results = []\n",
    "for i in range(0,5):\n",
    "    optimum = optimize.dual_annealing(minus_log_likelihood, bounds, args = (df[\"TIME\"], df[\"OBS\"]))\n",
    "    results.append(np.concatenate((optimum.x, [-optimum.fun])))\n",
    "    print(\"Run\", i, \"optimum:\", optimum.x, \", log likelihood:\", -optimum.fun)"
   ]
  },
  {
   "cell_type": "code",
   "execution_count": 9,
   "id": "signal-viking",
   "metadata": {},
   "outputs": [
    {
     "data": {
      "image/png": "[encoded data removed]",
      "text/plain": [
       "<Figure size 432x288 with 1 Axes>"
      ]
     },
     "metadata": {
      "needs_background": "light"
     },
     "output_type": "display_data"
    }
   ],
   "source": [
    "ll_true = -minus_log_likelihood(PK_param_value+[sigma], df[\"TIME\"], df[\"OBS\"])\n",
    "l_bound = np.concatenate((np.asarray(bounds)[:,0], [ll_true-100]))\n",
    "u_bound = np.concatenate((np.asarray(bounds)[:,1], [ll_true+10]))\n",
    "\n",
    "rel_position = (np.asarray(PK_param_value+[sigma]+[ll_true])-l_bound)/(u_bound-l_bound)\n",
    "plt.scatter(\n",
    "    PK_param_names+[\"sigma\"]+[\"likelihood\"], \n",
    "    rel_position, \n",
    "    label=\"True parameters\", \n",
    "    marker=\"_\", \n",
    "    s=20 ** 2\n",
    ")\n",
    "\n",
    "for i, optimum in enumerate(results):\n",
    "    rel_position = (optimum-l_bound)/(u_bound-l_bound)\n",
    "    plt.scatter(PK_param_names+[\"sigma\"]+[\"likelihood\"], rel_position, label = \"Run \"+str(i))\n",
    "plt.legend()\n",
    "plt.yticks([], [])\n",
    "plt.show()"
   ]
  },
  {
   "attachments": {},
   "cell_type": "markdown",
   "id": "psychological-devon",
   "metadata": {},
   "source": [
    "The above optimisations may differ from one another and can give an indication on whether this is identifiable or not. However, this is does not definitively inform us how identifiable any of the parameters are. As this optimisation algorithm has stochastic processes, by chance it may have all found the same local minima or different ones."
   ]
  },
  {
   "attachments": {},
   "cell_type": "markdown",
   "id": "willing-jewelry",
   "metadata": {},
   "source": [
    "## Profile likelihood"
   ]
  },
  {
   "attachments": {},
   "cell_type": "markdown",
   "id": "operational-siemens",
   "metadata": {},
   "source": [
    "To determine Parameter Identifiability we can examine the profile likelihoods of the parameters. To do this, each parameter is varied around the optimised value, and the log-likelihood for the other parameters re-optimised, i.e.:\n",
    "\\begin{equation}\n",
    "    PL\\left(\\theta_i\\right) = \\max_{\\theta_{-i}}\\left(\\log\\left(P\\left(X^\\textrm{obs} | \\theta_i, \\theta_{-i}\\right)\\right)\\right)\n",
    "\\end{equation}\n",
    "for each parameter $\\theta_i$, where $\\theta_{-i}$ are all parameters excluding $\\theta_i$. This is then compared with a vertical confidence line where the intersection of this line to the profile likelihood curve indicates the confidence interval. For a confidence interval of 95\\% a confidence line at 1.92 below the maximum is used. If the curve acquired from $PL\\left(\\theta_i\\right)$ does not cross the confidence line on one or both sides of the maximum then the parameters are unidentifiable. We have already performed a global optimisation, we can use this as the starting point for subsequent optimisations."
   ]
  },
  {
   "cell_type": "code",
   "execution_count": 10,
   "id": "unusual-turkey",
   "metadata": {},
   "outputs": [
    {
     "name": "stdout",
     "output_type": "stream",
     "text": [
      "Initial point for profile likelihood\n",
      "V_c = 1.601394668161519\n",
      "K_cl = 2.641329262924137\n",
      "V_P = 6.660922990213748\n",
      "K_p = 2.2567861060085557\n"
     ]
    }
   ],
   "source": [
    "# Excluding run 4 as this was an outlier in my case, change for your runs.\n",
    "exclude_outliers = np.asarray(results[0:4])\n",
    "start_point = np.average(exclude_outliers[:,:-1], axis=0)\n",
    "\n",
    "print('Initial point for profile likelihood')\n",
    "for i in range(0,len(PK_param_names)):\n",
    "    print(PK_param_names[i] + \" = \" + str(start_point[i]))"
   ]
  },
  {
   "attachments": {},
   "cell_type": "markdown",
   "id": "separated-charleston",
   "metadata": {},
   "source": [
    "Now to define the algorithm that will perform the optimisation."
   ]
  },
  {
   "cell_type": "code",
   "execution_count": 11,
   "id": "varied-composite",
   "metadata": {},
   "outputs": [
    {
     "name": "stdout",
     "output_type": "stream",
     "text": [
      "\n",
      " Profile likelihood for V_c lower:\n",
      " 6% complete"
     ]
    },
    {
     "name": "stderr",
     "output_type": "stream",
     "text": [
      "/home/rumney/Documents/Myleotoxicity/Myleotoxicity-PKPD/venv/lib/python3.8/site-packages/scipy/optimize/_numdiff.py:579: RuntimeWarning: invalid value encountered in true_divide\n",
      "  J_transposed[i] = df / dx\n"
     ]
    },
    {
     "name": "stdout",
     "output_type": "stream",
     "text": [
      " 99% complete14% complete35% complete75% complete\n",
      " Profile likelihood for V_c upper:\n",
      " 99% complete12% complete35% complete89% complete\n",
      " Profile likelihood for K_cl lower:\n",
      " 99% complete% complete17% complete40% complete\n",
      " Profile likelihood for K_cl upper:\n",
      " 99% complete% complete46% complete87% complete\n",
      " Profile likelihood for V_P lower:\n",
      " 99% complete51% complete65% complete\n",
      " Profile likelihood for V_P upper:\n",
      " 99% complete% complete46% complete83% complete\n",
      " Profile likelihood for K_p lower:\n",
      " 99% complete% complete32% complete53% complete81% complete\n",
      " Profile likelihood for K_p upper:\n",
      " 99% complete60% complete\n",
      " Profile likelihood for sigma lower:\n",
      " 99% complete\n",
      " Profile likelihood for sigma upper:\n",
      " 99% complete% complete35% complete42% complete59% complete61% complete"
     ]
    }
   ],
   "source": [
    "def single_profile_loglikelihood(param_index, param_range, point_start):\n",
    "    likelihood = []\n",
    "    point = point_start.copy()\n",
    "    PL_bounds = bounds.copy()\n",
    "    i=0\n",
    "    \n",
    "    for theta_i in param_range:\n",
    "        PL_bounds[param_index] = (theta_i, theta_i) # ensure the parameter theta_i is fixed in the optimisation\n",
    "        point[param_index] = theta_i\n",
    "\n",
    "        opt = optimize.minimize(minus_log_likelihood, point, bounds=PL_bounds, args = (df[\"TIME\"], df[\"OBS\"]))\n",
    "        \n",
    "        print(\n",
    "            \"\\r\", \n",
    "            str(int(i/len(param_range)*100))\n",
    "            + \"% complete\",\n",
    "            sep=' ', \n",
    "            end='', \n",
    "            flush=True\n",
    "        )\n",
    "        i+=1\n",
    "        \n",
    "                \n",
    "        point = opt.x\n",
    "        loglike = -opt.fun\n",
    "        likelihood.append([theta_i, loglike])\n",
    "    return likelihood\n",
    "\n",
    "likelihoods = {}\n",
    "for param_index in range(0, 5):\n",
    "    print(\"\\n Profile likelihood for \" + (PK_param_names+[\"sigma\"])[param_index]+ \" lower:\")\n",
    "    n=0\n",
    "    param_range = np.linspace(1*start_point[param_index], 0.5*start_point[param_index], 100)\n",
    "    likelihood_lower = single_profile_loglikelihood(param_index, param_range, start_point)\n",
    "    likelihood_lower.reverse()\n",
    "    print(\"\\n Profile likelihood for \" + (PK_param_names+[\"sigma\"])[param_index]+ \" upper:\")\n",
    "    \n",
    "    param_range = np.linspace(1*start_point[param_index], 1.5*start_point[param_index], 100)\n",
    "    likelihood_upper = single_profile_loglikelihood(param_index, param_range, start_point)\n",
    "    likelihoods[param_index] = np.asarray(likelihood_lower + likelihood_upper)\n",
    "    \n",
    "#     n+=1\n",
    "#     param_range = np.linspace(1*opt_point_comb[param_index], 1.5*opt_point_comb[param_index], 100)\n",
    "#     likelihood_upper = single_profile_loglikelihood(param_index, param_range, point)\n",
    "    \n",
    "#     likelihood_lower.reverse()\n",
    "#     likelihood = np.array(likelihood_lower+likelihood_upper)"
   ]
  },
  {
   "cell_type": "code",
   "execution_count": 17,
   "id": "handed-amendment",
   "metadata": {},
   "outputs": [
    {
     "name": "stderr",
     "output_type": "stream",
     "text": [
      "<ipython-input-17-83d365ca449f>:21: UserWarning: Matplotlib is currently using module://ipykernel.pylab.backend_inline, which is a non-GUI backend, so cannot show the figure.\n",
      "  fig.show()\n"
     ]
    },
    {
     "data": {
      "image/png": "[encoded data removed]",
      "text/plain": [
       "<Figure size 540x720 with 6 Axes>"
      ]
     },
     "metadata": {
      "needs_background": "light"
     },
     "output_type": "display_data"
    }
   ],
   "source": [
    "fig, ax = plt.subplots(3, 2)\n",
    "param_values = PK_param_value + [sigma]\n",
    "fig.set_size_inches(7.5, 10)\n",
    "\n",
    "#Mechanistic Parameters\n",
    "for i in range(0,5):\n",
    "    likelihood = likelihoods[i]\n",
    "    ax[int(i/2), i%2].plot(likelihood[:,0], likelihood[:,1])\n",
    "    ax[int(i/2), i%2].axhline(y=np.max(likelihood[:,1])-(3.84/2), linestyle='-', color='r')\n",
    "    for run in results:\n",
    "        if (run[i]<likelihood[-1,0] and run[i]>likelihood[0,0]):\n",
    "            ax[int(i/2), i%2].axvline(x=run[i], linestyle='--', color='black')\n",
    "    if (param_values[i]<likelihood[-1,0] and param_values[i]>likelihood[0,0]):\n",
    "        ax[int(i/2), i%2].axvline(x=param_values[i], linestyle='--', color='red')\n",
    "        \n",
    "    ax[int(i/2), i%2].set_xlabel((PK_param_names+[\"sigma\"])[i])\n",
    "    ax[int(i/2), i%2].set_ylim([np.max(likelihood[:,1])-(3.84*2), np.max(likelihood[:,1])+1.92])\n",
    "\n",
    "\n",
    "ax[2, 1].set_axis_off()\n",
    "fig.show()"
   ]
  },
  {
   "attachments": {},
   "cell_type": "markdown",
   "id": "developmental-accuracy",
   "metadata": {},
   "source": [
    "As we can see here $\\sigma$ seems to be unidentifiable. If we observe it over the full width of boundaries. "
   ]
  },
  {
   "cell_type": "code",
   "execution_count": 15,
   "id": "automotive-louis",
   "metadata": {},
   "outputs": [
    {
     "name": "stdout",
     "output_type": "stream",
     "text": [
      "\n",
      " Profile likelihood for sigma lower:\n",
      " 9% complete"
     ]
    },
    {
     "name": "stderr",
     "output_type": "stream",
     "text": [
      "/home/rumney/Documents/Myleotoxicity/Myleotoxicity-PKPD/venv/lib/python3.8/site-packages/scipy/optimize/_numdiff.py:579: RuntimeWarning: invalid value encountered in true_divide\n",
      "  J_transposed[i] = df / dx\n"
     ]
    },
    {
     "name": "stdout",
     "output_type": "stream",
     "text": [
      " 99% complete45% complete81% complete\n",
      " Profile likelihood for sigma upper:\n",
      " 99% complete% complete23% complete43% complete44% complete46% complete59% complete92% complete"
     ]
    },
    {
     "data": {
      "image/png": "[encoded data removed]",
      "text/plain": [
       "<Figure size 432x288 with 1 Axes>"
      ]
     },
     "metadata": {
      "needs_background": "light"
     },
     "output_type": "display_data"
    }
   ],
   "source": [
    "print(\"\\n Profile likelihood for \" + \"sigma\"+ \" lower:\")\n",
    "param_range = np.linspace(1*start_point[4], 0.5*start_point[4], 100)\n",
    "likelihood_lower = single_profile_loglikelihood(4, param_range, start_point)\n",
    "likelihood_lower.reverse()\n",
    "\n",
    "print(\"\\n Profile likelihood for \" + \"sigma\"+ \" upper:\")\n",
    "param_range = np.logspace(np.log(1*start_point[4]), np.log(np.asarray(bounds)[4, 1]), 100)\n",
    "likelihood_upper = single_profile_loglikelihood(4, param_range, start_point)\n",
    "likelihood = np.asarray(likelihood_lower+likelihood_upper)\n",
    "\n",
    "\n",
    "plt.plot(likelihood[:,0], likelihood[:,1])\n",
    "plt.axhline(y=np.max(likelihood[:,1])-(3.84/2), linestyle='-', color='r')\n",
    "plt.axvline(x=start_point[4], linestyle='--', color='black')\n",
    "plt.axvline(x=param_values[4], linestyle='--', color='red')\n",
    "plt.xlabel(\"sigma\")\n",
    "plt.ylim([np.max(likelihood[:,1])-(3.84*2), np.max(likelihood[:,1])+1.92])\n",
    "\n",
    "plt.xscale(\"log\")\n",
    "plt.show()"
   ]
  },
  {
   "cell_type": "code",
   "execution_count": null,
   "id": "federal-tamil",
   "metadata": {},
   "outputs": [],
   "source": []
  }
 ],
 "metadata": {
  "kernelspec": {
   "display_name": "myenv",
   "language": "python",
   "name": "myenv"
  },
  "language_info": {
   "codemirror_mode": {
    "name": "ipython",
    "version": 3
   },
   "file_extension": ".py",
   "mimetype": "text/x-python",
   "name": "python",
   "nbconvert_exporter": "python",
   "pygments_lexer": "ipython3",
   "version": "3.10.6"
  }
 },
 "nbformat": 4,
 "nbformat_minor": 5
}
