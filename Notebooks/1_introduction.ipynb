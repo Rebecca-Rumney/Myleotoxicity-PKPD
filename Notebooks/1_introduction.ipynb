{
 "cells": [
  {
   "cell_type": "markdown",
   "id": "interstate-reality",
   "metadata": {},
   "source": [
    "# Pharmacokinetics and Pharmacodynamics of Myelotoxicity\n",
    "\n",
    "### Contents\n",
    "- **Introduction**\n",
    "- [Introduction](1_introduction.ipynb)\n",
    "- [The Forward Model](2_forward_model.ipynb)\n",
    "- [Exploring Data](3_data_explore.ipynb)\n",
    "- [Parameter Inference](4_parameter_inference.ipynb)\n",
    "- [Parameter Identifiability](5_profile_likelihoods.ipynb)\n",
    "- [Model Selection](6_model_comparison_naive.ipynb)\n",
    "- [Conclusion](7_Conclusion.ipynb)"
   ]
  },
  {
   "cell_type": "markdown",
   "id": "weird-apparatus",
   "metadata": {},
   "source": [
    "## 1 Introduction"
   ]
  },
  {
   "cell_type": "markdown",
   "id": "retired-approach",
   "metadata": {},
   "source": [
    "Within these notebooks I will explore the adverse effects of anticancer drugs on the production and maturation of blood cells, a process that is called myelotoxicity. A common adverse effect of many drugs used in chemotherapy is neutropaenia, dangerously low levels of neutrophils, which can lead to severe or fatal infection \\cite{intragumtornchai2000predictive, repetto2009incidence}. Other common side-effects are, anaemia, which leads to severe fatigue, and thrombocytopaenia, which reduces blood clotting and causes bleeding complications \\cite{groopman1999chemotherapy, weycker2019risk, wu2009anemia}. These myelotoxic effects happen when the drugs, which target the fast-proliferating cancer cells, also kill off the proliferating bone marrow cells that produce blood cells. \n",
    "\n",
    "Currently, when a low blood cell count is detected in patients or the related symptoms become too severe, chemotherapy is halted, the anticancer drug dose is reduced or treatment is delayed. Predicting  the exposure-response relationship of myelotoxicity would allow adjustments of treatments to avoid these adverse effects. There have been proposals that certain risk factors should be taken into account when initially deciding on treatment \\cite{lyman2005risk}, or that the dose should be adjusted using predictions from the nadir (low point of blood cell count) of a patient's first cycle of treatment \\cite{rivera2003first}. However, these amendments to treatment can cause other problems as the efficacy of the chemotherapy may be reduced below a level that is able to keep the tumour controlled under reasonable limits \\cite{groopman1999chemotherapy, repetto2009incidence, weycker2019risk}.\n",
    "\n",
    "Pharmacokinetic and pharmacodynamic (PKPD) models can be used to simulate the effects of chemotherapy. Pharmacokinetic (PK) models are mathematical models of the concentration of the drug throughout the body over time whereas pharmacodynamic (PD) models translate this concentration of drug into a measurable PD effect. These mathematical models transform and simplify the complicated mechanisms within the body into a form that provides predictions of the outcomes of chemotherapy on an individual patient or a population. However, to ensure these predictions are reliable, analysis needs to be done on these models, comparing the output to experimental data. This analysis can then give further insight into the mechanisms that are present and relevant to the system of interest.\n",
    "\n",
    "In this report I explore some PKPD models of myelotoxicity and attempt to answer the following questions using experimental data:\n",
    "\n",
    "- What are the most likely parameters of the model?\n",
    "- Can the parameters of the model be reasonably identified?\n",
    "- Which model is the best at predicting the myelotoxic outcomes of chemotherapy?\n",
    "        \n",
    "I especially concentrate on the noise model (the assumptions of how noisy data is distributed around the dynamical PKPD model) as this is a commonly overlooked part of the model that is still highly influential in the results."
   ]
  },
  {
   "cell_type": "markdown",
   "id": "nasty-holocaust",
   "metadata": {},
   "source": [
    "Next Notebook: [The Forward Model](2_forward_model.ipynb)"
   ]
  },
  {
   "cell_type": "code",
   "execution_count": null,
   "id": "trying-pharmacy",
   "metadata": {},
   "outputs": [],
   "source": []
  }
 ],
 "metadata": {
  "kernelspec": {
   "display_name": "myenv",
   "language": "python",
   "name": "myenv"
  },
  "language_info": {
   "codemirror_mode": {
    "name": "ipython",
    "version": 3
   },
   "file_extension": ".py",
   "mimetype": "text/x-python",
   "name": "python",
   "nbconvert_exporter": "python",
   "pygments_lexer": "ipython3",
   "version": "3.10.6 (main, Nov 14 2022, 16:10:14) [GCC 11.3.0]"
  }
 },
 "nbformat": 4,
 "nbformat_minor": 5
}
