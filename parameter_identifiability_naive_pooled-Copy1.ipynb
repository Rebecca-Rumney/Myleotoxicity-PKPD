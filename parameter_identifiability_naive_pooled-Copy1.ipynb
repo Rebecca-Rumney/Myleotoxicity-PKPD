{
 "cells": [
  {
   "cell_type": "markdown",
   "id": "independent-heading",
   "metadata": {},
   "source": [
    "# Parameter Identifiability"
   ]
  },
  {
   "cell_type": "code",
   "execution_count": 1,
   "id": "nonprofit-contrary",
   "metadata": {},
   "outputs": [],
   "source": [
    "import pandas\n",
    "# from Myelotoxicity_pkpd.PK_model import PintsLinCompIV\n",
    "from Myelotoxicity_pkpd.Likelihoods import MultiplicativeGaussianLogLikelihood, GaussianLogLikelihood, ConstantAndMultiplicativeGaussianLogLikelihood\n",
    "from Myelotoxicity_pkpd.PD_model import PintsPDFriberg\n",
    "import pints\n",
    "# import pints.plot\n",
    "# import pints.io\n",
    "import numpy as np\n",
    "import matplotlib.pyplot as plt\n",
    "# import plotly.express as px\n",
    "# import plotly.graph_objects as go\n",
    "# import plotly.figure_factory as ff"
   ]
  },
  {
   "cell_type": "code",
   "execution_count": 2,
   "id": "coupled-virus",
   "metadata": {},
   "outputs": [],
   "source": [
    "drug = 'Docetaxel'\n",
    "dose = 10.0\n",
    "num_comp = 2\n",
    "observation_name = 'Platelets '"
   ]
  },
  {
   "cell_type": "markdown",
   "id": "empirical-syndication",
   "metadata": {},
   "source": [
    "## Simulated Data"
   ]
  },
  {
   "cell_type": "code",
   "execution_count": 3,
   "id": "unlike-departure",
   "metadata": {},
   "outputs": [
    {
     "name": "stdout",
     "output_type": "stream",
     "text": [
      "Parameters used for simulated data:\n",
      "Circ_0 = 983.1\n",
      "MTT = 85.26\n",
      "gamma = 0.44\n",
      "slope = 0.02\n",
      "sigma_base = 42.43\n",
      "eta = 1.0\n",
      "sigma_rel = 0.13\n"
     ]
    }
   ],
   "source": [
    "PD_actual_params = np.load(\"Data_and_parameters/pd_sim_actual_params_dose_2.npy\")\n",
    "PD_param_names = [\"Circ_0\", \"MTT\", \"gamma\", \"slope\", \"sigma_base\", \"eta\", \"sigma_rel\"]\n",
    "print(\"Parameters used for simulated data:\")\n",
    "for i in range(0,len(PD_param_names)):\n",
    "    print(PD_param_names[i] + \" = \" + str(PD_actual_params[i]))"
   ]
  },
  {
   "cell_type": "code",
   "execution_count": 4,
   "id": "rolled-saturday",
   "metadata": {},
   "outputs": [
    {
     "name": "stdout",
     "output_type": "stream",
     "text": [
      "     TIME          OBS\n",
      "0   -48.0   869.130612\n",
      "1    24.0   961.271692\n",
      "2    48.0   790.014183\n",
      "3    72.0   769.877641\n",
      "4    96.0   736.797276\n",
      "5   120.0   561.013744\n",
      "6   144.0   603.514381\n",
      "7   168.0   584.144579\n",
      "8   192.0   787.642479\n",
      "9   216.0  1029.831275\n",
      "10  240.0  1164.806321\n",
      "11  264.0  1469.608502\n",
      "12  288.0  1367.173049\n",
      "13  312.0  1212.623130\n",
      "14  336.0  1540.622999\n",
      "15  360.0  1013.834055\n",
      "16  384.0  1116.095449\n",
      "17  432.0   901.822080\n",
      "18  480.0   728.172928\n",
      "19  552.0  1031.239362\n",
      "approximate Circ_0:  869.1306122827878\n"
     ]
    }
   ],
   "source": [
    "PK_params=np.load('simulated_parameters_actual_dose2.npy')\n",
    "df = pandas.read_csv(\"./Data_and_parameters/pd_sim_data_dose_2\")\n",
    "start_time = df['TIME'].min()\n",
    "PD_model = PintsPDFriberg(PK_params, 2, start_time=start_time)\n",
    "print(df)\n",
    "\n",
    "df_before_0 = df[df[\"TIME\"] < 0]\n",
    "times_before_dose = len(df_before_0[\"OBS\"])\n",
    "Circ_0_approx = sum(df_before_0[\"OBS\"])/times_before_dose\n",
    "print(\"approximate Circ_0: \", Circ_0_approx)"
   ]
  },
  {
   "cell_type": "code",
   "execution_count": 5,
   "id": "assisted-scientist",
   "metadata": {},
   "outputs": [
    {
     "name": "stdout",
     "output_type": "stream",
     "text": [
      "Initial point for profile likelihood\n",
      "Circ_0 = 974.928581528346\n",
      "MTT = 83.68306101500464\n",
      "gamma = 0.4164428569194671\n",
      "slope = 0.0192596079549873\n",
      "sigma_base = 12.489882766574263\n",
      "eta = 1.6381622423422335\n",
      "sigma_rel = 0.0010000000001915\n"
     ]
    }
   ],
   "source": [
    "opt_df = pandas.read_csv(\"./Data_and_parameters/PD_sim/opt_results.csv\")\n",
    "opt_point_comb = opt_df.loc[3,:].values[2:9]\n",
    "\n",
    "lower_bound = [0.01*Circ_0_approx, df['TIME'].max()*0.01, 0.001, 0.001, 0.005, 0.001, 0.0001]\n",
    "upper_bound = [100*Circ_0_approx, df['TIME'].max()*0.5, 5, 100, 1000, 10, 1]\n",
    "print('Initial point for profile likelihood')\n",
    "for i in range(0,len(PD_param_names)):\n",
    "    print(PD_param_names[i] + \" = \" + str(opt_point_comb[i]))"
   ]
  },
  {
   "cell_type": "code",
   "execution_count": 16,
   "id": "hourly-summer",
   "metadata": {},
   "outputs": [],
   "source": [
    "def single_profile_loglikelihood(param_index, param_values, point_start, fix_noise = [None]*3):\n",
    "    likelihood = []\n",
    "    point = point_start\n",
    "    for i, x in enumerate(param_values):\n",
    "        print(\"\\r\", str((i/len(param_values)+n)*50)+\"% complete\", sep=' ', end='', flush=True)\n",
    "        fix_i_noise = fix_noise\n",
    "        \n",
    "        if param_index < 4:\n",
    "            fix_param=[[param_index], [x]]\n",
    "        else:\n",
    "            fix_param=[[], []]\n",
    "            fix_i_noise[param_index-4] = x\n",
    "        \n",
    "        pints_model_simulated = PintsPDFriberg(\n",
    "            PK_params, \n",
    "            dose, \n",
    "            fix_param=fix_param, \n",
    "            start_time=start_time\n",
    "        )\n",
    "        problem = pints.SingleOutputProblem(\n",
    "            pints_model_simulated, \n",
    "            df['TIME'].to_numpy()-start_time, \n",
    "            df['OBS'].to_numpy()\n",
    "        )\n",
    "        log_likelihood = ConstantAndMultiplicativeGaussianLogLikelihood(problem, fix_noise=fix_i_noise)\n",
    "        error_measure = pints.ProbabilityBasedError(log_likelihood)\n",
    "        unchanged_threshold = 1e-4\n",
    "        \n",
    "        optimisation = pints.OptimisationController(error_measure, point, method=pints.NelderMead)\n",
    "        optimisation.set_max_unchanged_iterations(threshold=unchanged_threshold)\n",
    "\n",
    "        optimisation.set_log_to_screen(False)\n",
    "        point, error = optimisation.run()\n",
    "        likelihood.append([x, -error])\n",
    "    return(likelihood)"
   ]
  },
  {
   "cell_type": "code",
   "execution_count": 12,
   "id": "entertaining-terror",
   "metadata": {},
   "outputs": [
    {
     "name": "stdout",
     "output_type": "stream",
     "text": [
      "\n",
      " Profile likelihood for sigma_rel:\n",
      " 99.5% complete001% completee"
     ]
    }
   ],
   "source": [
    "fix_eta = [None, 1, None]\n",
    "\n",
    "for param_index in [4,6]:\n",
    "    print(\"\\n Profile likelihood for \" + PD_param_names[param_index]+ \":\")\n",
    "    if param_index<5:\n",
    "        point = np.concatenate((opt_point_comb[:param_index], opt_point_comb[param_index+1:5], opt_point_comb[6:]))\n",
    "    elif param_index>5:\n",
    "        point = np.concatenate((opt_point_comb[:5], opt_point_comb[6:param_index], opt_point_comb[param_index+1:]))\n",
    "    if param_index!=5:\n",
    "        n=0\n",
    "        param_range = np.linspace(1*opt_point_comb[param_index], 0.5*opt_point_comb[param_index], 100)\n",
    "        likelihood_lower = single_profile_loglikelihood(param_index, param_range, point, fix_noise=fix_eta)\n",
    "\n",
    "        n+=1\n",
    "        param_range = np.linspace(1*opt_point_comb[param_index], 1.5*opt_point_comb[param_index], 100)\n",
    "        likelihood_upper = single_profile_loglikelihood(param_index, param_range, point, fix_noise=fix_eta)\n",
    "\n",
    "        likelihood_lower.reverse()\n",
    "        likelihood = np.array(likelihood_lower+likelihood_upper)\n",
    "        np.save(\"./Data_and_parameters/PD_sim/identify_comb_noeta_param_\"+str(param_index), likelihood)"
   ]
  },
  {
   "cell_type": "code",
   "execution_count": 6,
   "id": "designed-guide",
   "metadata": {},
   "outputs": [],
   "source": [
    "def pair_profile_likelihood(param_index_1, param_index_2, param_values_1, param_values_2, point_start, fix_noise = [None]*3):\n",
    "    point_next_line = point_start\n",
    "    likelihood_matrix = np.zeros((len(param_values_1), len(param_values_2)))\n",
    "    \n",
    "    for i, x_1 in enumerate(param_values_1):\n",
    "        print(\"\\r\", str(np.round((i/len(param_values_1)+n)*25, decimals=4))+\"% complete\", sep=' ', end='', flush=True)\n",
    "        point = point_next_line\n",
    "        \n",
    "        for j, x_2 in enumerate(param_values_2):\n",
    "            fix_mech = [[],[]]\n",
    "            fix_ij_noise = fix_noise\n",
    "            if param_index_1<4:\n",
    "                fix_mech[0].append(param_index_1)\n",
    "                fix_mech[1].append(x_1)\n",
    "            else: \n",
    "                fix_ij_noise[param_index_1-4]=x_1\n",
    "            if param_index_2<4:\n",
    "                fix_mech[0].append(param_index_2)\n",
    "                fix_mech[1].append(x_2)\n",
    "            else: \n",
    "                fix_ij_noise[param_index_2-4]=x_2\n",
    "            pints_model = PintsPDFriberg(\n",
    "                PK_params, dose,\n",
    "                fix_param=fix_mech,\n",
    "                start_time=start_time\n",
    "            )\n",
    "            problem = pints.SingleOutputProblem(\n",
    "                pints_model, \n",
    "                df['TIME'].to_numpy()-start_time, \n",
    "                df['OBS'].to_numpy()\n",
    "            )\n",
    "            \n",
    "            log_likelihood = ConstantAndMultiplicativeGaussianLogLikelihood(problem, fix_noise=fix_ij_noise)  \n",
    "            error_measure = pints.ProbabilityBasedError(log_likelihood)\n",
    "\n",
    "            unchanged_threshold = 1e-4\n",
    "\n",
    "            optimisation = pints.OptimisationController(error_measure, point, method=pints.NelderMead)\n",
    "            optimisation.set_max_unchanged_iterations(threshold=unchanged_threshold)\n",
    "            \n",
    "            optimisation.set_log_to_screen(False)\n",
    "            point, error = optimisation.run()\n",
    "            likelihood_matrix[i,j] = -error\n",
    "\n",
    "            if j==0:\n",
    "                point_next_line = point\n",
    "    return likelihood_matrix"
   ]
  },
  {
   "cell_type": "code",
   "execution_count": 7,
   "id": "impossible-crawford",
   "metadata": {},
   "outputs": [
    {
     "name": "stdout",
     "output_type": "stream",
     "text": [
      "\n",
      " Pairwise Profile likelihood for sigma_rel and sigma_base:\n",
      "[974.928581528346 83.68306101500464 0.4164428569194671 0.0192596079549873]\n",
      " 97.5% complete"
     ]
    }
   ],
   "source": [
    "# For double parameters\n",
    "for param_index_1 in [6]:\n",
    "    param_range_1_lower = np.linspace(1*opt_point_comb[param_index_1], 0.5*opt_point_comb[param_index_1], 10)\n",
    "    param_range_1_upper = np.linspace(1*opt_point_comb[param_index_1], 1.5*opt_point_comb[param_index_1], 10)\n",
    "    for param_index_2 in [4]:\n",
    "        print(\"\\n Pairwise Profile likelihood for \" + PD_param_names[param_index_1] + \" and \" + PD_param_names[param_index_2] + \":\")\n",
    "\n",
    "        param_range_2_left = np.linspace(1*opt_point_comb[param_index_2], 0.5*opt_point_comb[param_index_2], 10)\n",
    "        param_range_2_right = np.linspace(1*opt_point_comb[param_index_2], 1.5*opt_point_comb[param_index_2], 10)\n",
    "        \n",
    "        if param_index_1<5:\n",
    "            pass\n",
    "        \n",
    "        elif (param_index_2<5 and param_index_1>5):\n",
    "            point_start = np.concatenate((\n",
    "                opt_point_comb[:param_index_2],\n",
    "                opt_point_comb[param_index_2+1:5],\n",
    "                opt_point_comb[6:param_index_1], \n",
    "                opt_point_comb[param_index_1+1:]\n",
    "            ))\n",
    "        elif param_index_2>5:\n",
    "            pass\n",
    "        fix_eta = [None, 1, None]\n",
    "\n",
    "        \n",
    "        n=0\n",
    "        likelihood_lower_left = pair_profile_likelihood(\n",
    "            param_index_1,\n",
    "            param_index_2, \n",
    "            param_range_1_lower, \n",
    "            param_range_2_left, \n",
    "            point_start,\n",
    "            fix_noise = fix_eta\n",
    "        )\n",
    "        likelihood_lower_left = np.fliplr(likelihood_lower_left[:,1:])\n",
    "        \n",
    "        n=1\n",
    "        likelihood_upper_left = pair_profile_likelihood(\n",
    "            param_index_1,\n",
    "            param_index_2, \n",
    "            param_range_1_upper, \n",
    "            param_range_2_left, \n",
    "            point_start,\n",
    "            fix_noise = fix_eta\n",
    "        )\n",
    "        likelihood_upper_left = np.fliplr(np.flipud(likelihood_upper_left[1:,1:]))\n",
    "        \n",
    "        n=2\n",
    "        likelihood_lower_right = pair_profile_likelihood(\n",
    "            param_index_1,\n",
    "            param_index_2, \n",
    "            param_range_1_lower, \n",
    "            param_range_2_right, \n",
    "            point_start,\n",
    "            fix_noise = fix_eta\n",
    "        )\n",
    "        \n",
    "        n=3\n",
    "        likelihood_upper_right = pair_profile_likelihood(\n",
    "            param_index_1,\n",
    "            param_index_2, \n",
    "            param_range_1_upper, \n",
    "            param_range_2_right, \n",
    "            point_start,\n",
    "            fix_noise = fix_eta\n",
    "        )\n",
    "        likelihood_upper_right = np.flipud(likelihood_upper_right[1:,:])\n",
    "        \n",
    "        likelihood_upper = np.concatenate((likelihood_upper_left, likelihood_upper_right), axis=1)\n",
    "        likelihood_lower = np.concatenate((likelihood_lower_left, likelihood_lower_right), axis=1)\n",
    "        likelihood =  np.concatenate((likelihood_upper, likelihood_lower), axis=0)\n",
    "        \n",
    "        np.save(\"./Data_and_parameters/PD_sim/identify_comb_noeta_param_\"+str(param_index_1)+\"_\"+str(param_index_2)+\"_dose_\"+str(dose), likelihood)"
   ]
  },
  {
   "cell_type": "code",
   "execution_count": 14,
   "id": "major-voluntary",
   "metadata": {},
   "outputs": [
    {
     "data": {
      "image/png": "[encoded data removed]",
      "text/plain": [
       "<Figure size 380.571x380.571 with 4 Axes>"
      ]
     },
     "metadata": {
      "needs_background": "light"
     },
     "output_type": "display_data"
    }
   ],
   "source": [
    "fig, ax = plt.subplots(2, 2)\n",
    "fig.set_size_inches(18.5*2.0/7.0, 18.5*2.0/7.0)\n",
    "dose = 10.0\n",
    "param_indices = [4,6]\n",
    "for y_axes in range(0,2):\n",
    "    i = param_indices[y_axes]\n",
    "    for x_axes in range(0,2):\n",
    "        j = param_indices[x_axes]\n",
    "        if i == j:\n",
    "            likelihood = np.load(\"./Data_and_parameters/PD_sim/identify_comb_noeta_param_\"+str(i)+\".npy\")\n",
    "\n",
    "            ax[y_axes, x_axes].plot(likelihood[:,0], likelihood[:,1])\n",
    "            ax[y_axes, x_axes].axhline(y=np.max(likelihood[:,1])-(3.84/2), linestyle='-', color='r')\n",
    "            if (PD_actual_params[i]<np.max(likelihood[:,0]) and PD_actual_params[i]>np.min(likelihood[:,0])):\n",
    "                ax[y_axes, x_axes].axvline(x=PD_actual_params[i], linestyle='--', color='r')\n",
    "        elif j<i:\n",
    "            likelihood = np.load(\"./Data_and_parameters/PD_sim/identify_comb_noeta_param_\"+str(i)+\"_\"+str(j)+\"_dose_\"+str(dose)+\".npy\")\n",
    "            y_range = np.linspace(0.5*opt_point_comb[i], 1.5*opt_point_comb[i], 19)\n",
    "            x_range = np.linspace(0.5*opt_point_comb[j], 1.5*opt_point_comb[j], 19)\n",
    "\n",
    "            colouring = ax[y_axes, x_axes].pcolormesh(x_range, y_range, likelihood, vmin=likelihood.min(), vmax=likelihood.max(), cmap='PuBu_r', shading='auto')\n",
    "            \n",
    "#             ax[i, j].axvline(x=PD_actual_params[j], linestyle='--', color='r')\n",
    "#             ax[i, j].axhline(y=PD_actual_params[i], linestyle='--', color='r')\n",
    "        \n",
    "        else:\n",
    "            ax[y_axes, x_axes].set_axis_off()\n",
    "        \n",
    "#         fig.colorbar(colouring, ax=ax[i,j], extend='max')\n",
    "        if y_axes == 1:\n",
    "            ax[y_axes, x_axes].set_xlabel(PD_param_names[j])\n",
    "        else:\n",
    "            ax[y_axes, x_axes].set_xticks([])\n",
    "        if x_axes == 0:\n",
    "            ax[y_axes, x_axes].set_ylabel(PD_param_names[i])\n",
    "        else:\n",
    "            ax[y_axes, x_axes].set_yticks([])"
   ]
  },
  {
   "cell_type": "code",
   "execution_count": 27,
   "id": "royal-momentum",
   "metadata": {},
   "outputs": [
    {
     "name": "stdout",
     "output_type": "stream",
     "text": [
      "[869.1478866517645 21.882905813281926 13.856141496339148\n",
      " 20.739125468442257 99.8872882575176]\n",
      "[975.0746810883232 83.26690590579929 0.4130737919944303 0.0192957738303407\n",
      " 0.0942497395080935]\n",
      "\n",
      " Profile likelihood for sigma_base:\n",
      " 95.0% complete001% complete\n",
      " Profile likelihood for sigma_rel:\n"
     ]
    },
    {
     "ename": "IndexError",
     "evalue": "index 6 is out of bounds for axis 0 with size 5",
     "output_type": "error",
     "traceback": [
      "\u001b[0;31m---------------------------------------------------------------------------\u001b[0m",
      "\u001b[0;31mIndexError\u001b[0m                                Traceback (most recent call last)",
      "\u001b[0;32m<ipython-input-27-f827a8d04d1d>\u001b[0m in \u001b[0;36m<module>\u001b[0;34m\u001b[0m\n\u001b[1;32m     19\u001b[0m     \u001b[0;32mif\u001b[0m \u001b[0mparam_index\u001b[0m\u001b[0;34m!=\u001b[0m\u001b[0;36m5\u001b[0m\u001b[0;34m:\u001b[0m\u001b[0;34m\u001b[0m\u001b[0;34m\u001b[0m\u001b[0m\n\u001b[1;32m     20\u001b[0m         \u001b[0mn\u001b[0m\u001b[0;34m=\u001b[0m\u001b[0;36m0\u001b[0m\u001b[0;34m\u001b[0m\u001b[0;34m\u001b[0m\u001b[0m\n\u001b[0;32m---> 21\u001b[0;31m         \u001b[0mparam_range\u001b[0m \u001b[0;34m=\u001b[0m \u001b[0mnp\u001b[0m\u001b[0;34m.\u001b[0m\u001b[0mlinspace\u001b[0m\u001b[0;34m(\u001b[0m\u001b[0;36m1\u001b[0m\u001b[0;34m*\u001b[0m\u001b[0mopt\u001b[0m\u001b[0;34m[\u001b[0m\u001b[0mparam_index\u001b[0m\u001b[0;34m]\u001b[0m\u001b[0;34m,\u001b[0m \u001b[0;36m0.5\u001b[0m\u001b[0;34m*\u001b[0m\u001b[0mopt\u001b[0m\u001b[0;34m[\u001b[0m\u001b[0mparam_index\u001b[0m\u001b[0;34m]\u001b[0m\u001b[0;34m,\u001b[0m \u001b[0;36m10\u001b[0m\u001b[0;34m)\u001b[0m\u001b[0;34m\u001b[0m\u001b[0;34m\u001b[0m\u001b[0m\n\u001b[0m\u001b[1;32m     22\u001b[0m         \u001b[0mlikelihood_lower\u001b[0m \u001b[0;34m=\u001b[0m \u001b[0msingle_profile_loglikelihood\u001b[0m\u001b[0;34m(\u001b[0m\u001b[0mparam_index\u001b[0m\u001b[0;34m,\u001b[0m \u001b[0mparam_range\u001b[0m\u001b[0;34m,\u001b[0m \u001b[0mpoint\u001b[0m\u001b[0;34m,\u001b[0m \u001b[0mfix_noise\u001b[0m\u001b[0;34m=\u001b[0m\u001b[0mfix_eta\u001b[0m\u001b[0;34m)\u001b[0m\u001b[0;34m\u001b[0m\u001b[0;34m\u001b[0m\u001b[0m\n\u001b[1;32m     23\u001b[0m \u001b[0;34m\u001b[0m\u001b[0m\n",
      "\u001b[0;31mIndexError\u001b[0m: index 6 is out of bounds for axis 0 with size 5"
     ]
    }
   ],
   "source": [
    "opt_point_add = opt_df.loc[0,:].values[2:7]\n",
    "print(opt_point_add)\n",
    "opt_point_mult = np.concatenate((opt_df.loc[2,:].values[2:6], opt_df.loc[2,:].values[8:9]))\n",
    "print(opt_point_mult)\n",
    "\n",
    "\n",
    "for param_index in [4,6]:\n",
    "    print(\"\\n Profile likelihood for \" + PD_param_names[param_index]+ \":\")\n",
    "    if param_index<5:\n",
    "        fix_eta = [None, 1, 0]\n",
    "        point = opt_point_add[:param_index]\n",
    "        file_name = \"./Data_and_parameters/PD_sim/identify_add_param_\"+str(param_index)\n",
    "        opt = opt_point_add\n",
    "    elif param_index>5:\n",
    "        fix_eta = [0, 1, None]\n",
    "        point = np.concatenate((opt_point_mult[:4], opt_point_mult[6:param_index], opt_point_mult[param_index+1:]))\n",
    "        file_name = \"./Data_and_parameters/PD_sim/identify_mult_noeta_param_\"+str(param_index)\n",
    "        opt = opt_point_mult\n",
    "    if param_index!=5:\n",
    "        n=0\n",
    "        param_range = np.linspace(1*opt[param_index], 0.5*opt[param_index], 10)\n",
    "        likelihood_lower = single_profile_loglikelihood(param_index, param_range, point, fix_noise=fix_eta)\n",
    "\n",
    "        n+=1\n",
    "        param_range = np.linspace(1*opt[param_index], 1.5*opt[param_index], 10)\n",
    "        likelihood_upper = single_profile_loglikelihood(param_index, param_range, point, fix_noise=fix_eta)\n",
    "\n",
    "        likelihood_lower.reverse()\n",
    "        likelihood = np.array(likelihood_lower+likelihood_upper)\n",
    "        np.save(file_name, likelihood)"
   ]
  },
  {
   "cell_type": "code",
   "execution_count": null,
   "id": "plain-activation",
   "metadata": {},
   "outputs": [],
   "source": [
    "fig, ax = plt.subplots(1, 2)\n",
    "fig.set_size_inches(18.5*2.0/7.0, 18.5/7.0)\n",
    "dose = 10.0\n",
    "param_indices = [4,6]\n",
    "for y_axes in range(0,1):\n",
    "    for x_axes in range(0,2):\n",
    "        i = param_indices[x_axes]\n",
    "        \n",
    "        if i == 4:\n",
    "            likelihood = np.load(\"./Data_and_parameters/PD_sim/identify_add_param_\"+str(i)+\".npy\")\n",
    "        if i==6:\n",
    "            likelihood = np.load(\"./Data_and_parameters/PD_sim/identify_mult_noeta_param_\"+str(i)+\".npy\")\n",
    "            \n",
    "\n",
    "        ax[x_axes].plot(likelihood[:,0], likelihood[:,1])\n",
    "        ax[x_axes].axhline(y=np.max(likelihood[:,1])-(3.84/2), linestyle='-', color='r')\n",
    "        if (PD_actual_params[i]<np.max(likelihood[:,0]) and PD_actual_params[i]>np.min(likelihood[:,0])):\n",
    "            ax[x_axes].axvline(x=PD_actual_params[i], linestyle='--', color='r')\n",
    "        \n",
    "#         fig.colorbar(colouring, ax=ax[i,j], extend='max')\n",
    "        ax[x_axes].set_xlabel(PD_param_names[i])\n",
    "        ax[x_axes].set_yticks([])"
   ]
  },
  {
   "cell_type": "code",
   "execution_count": null,
   "id": "automatic-egyptian",
   "metadata": {},
   "outputs": [],
   "source": []
  }
 ],
 "metadata": {
  "kernelspec": {
   "display_name": "myenv",
   "language": "python",
   "name": "myenv"
  },
  "language_info": {
   "codemirror_mode": {
    "name": "ipython",
    "version": 3
   },
   "file_extension": ".py",
   "mimetype": "text/x-python",
   "name": "python",
   "nbconvert_exporter": "python",
   "pygments_lexer": "ipython3",
   "version": "3.8.10"
  }
 },
 "nbformat": 4,
 "nbformat_minor": 5
}
