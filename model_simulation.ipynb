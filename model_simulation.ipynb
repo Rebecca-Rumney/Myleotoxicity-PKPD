{
 "cells": [
  {
   "cell_type": "code",
   "execution_count": 1,
   "metadata": {},
   "outputs": [],
   "source": [
    "import numpy as np\n",
    "import matplotlib.pyplot as plt\n",
    "from scipy import integrate\n",
    "from scipy import linalg\n",
    "from collections.abc import Iterable"
   ]
  },
  {
   "cell_type": "markdown",
   "metadata": {},
   "source": [
    "## PharmacoKinetics"
   ]
  },
  {
   "cell_type": "code",
   "execution_count": 2,
   "metadata": {},
   "outputs": [],
   "source": [
    "def central_dydt(current_state, params):\n",
    "    dC_dt = (params[\"k_dose\"]*current_state[\"dose\"]\n",
    "            + sum(params[\"Q_perif\"]*(current_state[\"peripheral\"]/params[\"Vol_perif\"]))\n",
    "            - sum(params[\"Q_perif\"]*(current_state[\"central\"]/params[\"Vol_C\"]))\n",
    "            - params[\"Cl\"]*(current_state[\"central\"]/params[\"Vol_C\"]))\n",
    "    return dC_dt\n",
    "\n",
    "def perif_dydt(current_state, params):\n",
    "    dP_dt = (params[\"Q_perif\"]*(current_state[\"central\"]/params[\"Vol_C\"])\n",
    "            - params[\"Q_perif\"]*(current_state[\"peripheral\"]/params[\"Vol_perif\"]))\n",
    "    return dP_dt\n",
    "\n",
    "def dose_iv(t):\n",
    "    return 0\n",
    "    \n",
    "def PK_iv_dydt(y, t, param_values, comp=2):\n",
    "    if comp==1:\n",
    "        current_state= {'central': y, \"peripheral\":np.asarray([])}\n",
    "        current_state[\"dose\"] = dose_iv(t)\n",
    "        params = {\"k_dose\" : 1, \"Vol_C\" : param_values[0], \"Cl\" : param_values[1], \"Vol_perif\" : np.asarray([]), \"Q_perif\" : np.asarray([])}\n",
    "        \n",
    "        dy_dt = central_dydt(current_state, params)\n",
    "        \n",
    "    else:\n",
    "        current_state= {'central': y[0], \"peripheral\":np.asarray(y[1:])}\n",
    "        current_state[\"dose\"] = dose_iv(t)\n",
    "        params= {\"k_dose\" : 1, \"Vol_C\" : param_values[0], \"Cl\" : param_values[1], \"Vol_perif\" : np.asarray(param_values[2]), \"Q_perif\" : np.asarray(param_values[3])}\n",
    "        \n",
    "        dC_dt = central_dydt(current_state, params)\n",
    "        dP_dt = perif_dydt(current_state, params)\n",
    "        dy_dt = np.insert(dP_dt, [0], [dC_dt])\n",
    "    \n",
    "    return dy_dt\n",
    "\n",
    "def PK_iv_result(dose, num_comp, parameter, times):\n",
    "    if len(parameter) != 2*num_comp:\n",
    "        raise ValueError(\n",
    "                'Number of Parameters does not match the number of Compartments')\n",
    "    Vol_C = parameter[0]\n",
    "    Cl = parameter[1]\n",
    "    Vol_perif = parameter[2:num_comp+1]\n",
    "    Q_perif = parameter[num_comp+1:]\n",
    "    y_0 = [dose] +[0]*(num_comp-1)\n",
    "    results_amt = integrate.odeint(PK_iv_dydt, y_0, times, args=((Vol_C, Cl, Vol_perif, Q_perif), num_comp))\n",
    "    results_conc = results_amt/np.insert(Vol_perif, [0], Vol_C)\n",
    "    return results_conc"
   ]
  },
  {
   "cell_type": "code",
   "execution_count": 11,
   "metadata": {},
   "outputs": [
    {
     "data": {
      "image/png": "[encoded data removed]",
      "text/plain": [
       "<Figure size 432x288 with 1 Axes>"
      ]
     },
     "metadata": {
      "needs_background": "light"
     },
     "output_type": "display_data"
    }
   ],
   "source": [
    "if __name__ == '__main__':\n",
    "    # Params:\n",
    "    k_dose = 1\n",
    "    k_perif = 0.5\n",
    "    Vol_perif = 1\n",
    "    Cl = 0.5\n",
    "    Vol_C = 2\n",
    "\n",
    "    dose = 5\n",
    "    time_span = 10\n",
    "    times = np.linspace(0,time_span,1000)\n",
    "    plt.plot(times, PK_iv_result(dose, 3, [Vol_C, Cl, Vol_perif, Vol_perif*0.5, k_perif, k_perif+0.1], times)[:,:])\n",
    "    plt.show"
   ]
  },
  {
   "cell_type": "markdown",
   "metadata": {},
   "source": [
    "### Analytical Solution\n",
    "\n",
    "This is not neccessary for inferring the PK parameters but it will make calculating PD easier."
   ]
  },
  {
   "cell_type": "code",
   "execution_count": 30,
   "metadata": {},
   "outputs": [
    {
     "name": "stdout",
     "output_type": "stream",
     "text": [
      "Real, Distinct Eigenvalues\n",
      "0.46374582036475864\n",
      "Real, Distinct Eigenvalues\n"
     ]
    },
    {
     "data": {
      "image/png": "[encoded data removed]",
      "text/plain": [
       "<Figure size 432x288 with 1 Axes>"
      ]
     },
     "metadata": {
      "needs_background": "light"
     },
     "output_type": "display_data"
    }
   ],
   "source": [
    "def solve_2_comp(dose, params, t):\n",
    "    if isinstance(t, Iterable)==False and t<0:\n",
    "        return 0\n",
    "    else:\n",
    "        Vol_C = params[0]\n",
    "        Cl = params[1]\n",
    "        Vol_perif = params[2]\n",
    "        Q = params[3]\n",
    "\n",
    "        A = np.asarray([[-(Cl+Q)/Vol_C, Q/Vol_perif], [Q/Vol_C, -Q/Vol_perif]])\n",
    "        x_0 = np.array([dose, 0])\n",
    "        eigvalues, eigvectors = linalg.eig(A)\n",
    "\n",
    "        if eigvalues[0]==eigvalues[1]:\n",
    "            print('Identical Eigenvalues')\n",
    "            l = eigvalues[0]\n",
    "            nu = eigvectors[0]\n",
    "            rho = linalg.solve(A-l*np.identity(2), nu)\n",
    "            c = linalg.solve([[nu[0], rho[0]],[nu[1], rho[1]]], x_0)\n",
    "            C_t = c[0]*np.exp(l*t)*nu[0] + c[1]*(t*np.exp(l*t)*nu[0] +np.exp(l*t)*rho[0])\n",
    "            \n",
    "        elif eigvalues[0].imag == 0:\n",
    "            print('Real, Distinct Eigenvalues')\n",
    "            l1, l2 = eigvalues\n",
    "            nu1, nu2 = eigvectors\n",
    "            c = linalg.solve([[nu1[0], nu2[0]],[nu1[1], nu2[1]]], x_0)\n",
    "            C_t = c[0]*np.exp(l1*t)*nu1[0] + c[1]*np.exp(l2*t)*nu2[0]\n",
    "            \n",
    "        else:\n",
    "            print('Imaginary Eigenvalues')\n",
    "            b = eigvalues[0].real\n",
    "            a = eigvalues[0].imag\n",
    "            nu = eigvectors[0]\n",
    "            def u_v(time):\n",
    "                ut_plus_ivt = np.exp(b*time)*(np.cos(a*time) + j*np.sin(b*time))*nu\n",
    "                return (ut_plus_ivt.real, ut_plus_ivt.imag)\n",
    "            \n",
    "            u_0 = u_v(0)[0]\n",
    "            v_0 = u_v(0)[1]\n",
    "            c = linalg.solve([[u_0[0], v_0[0]],[u_0[1], v_0[1]]], x_0)\n",
    "            C_t = c[0]*u_v(t)[0] + c[1]*u_v(t)[1]\n",
    "        \n",
    "        if isinstance(t, Iterable):\n",
    "            times_before_dose = np.count_nonzero(t < 0)\n",
    "            C_t[:times_before_dose] = 0\n",
    "        return C_t.real/Vol_C\n",
    "\n",
    "    \n",
    "if __name__ == '__main__':\n",
    "    \n",
    "    Q_perif = 1\n",
    "    Vol_perif = 1\n",
    "    Cl = 1\n",
    "    Vol_C = 2\n",
    "    dose = 2\n",
    "    print(solve_2_comp(2, [Vol_C, Cl, Vol_perif, Q_perif], 1))\n",
    "    \n",
    "    times = np.linspace(-2, 48, 100)\n",
    "    times_before_dose = np.count_nonzero(times < 0)\n",
    "    int_times = np.concatenate((np.zeros(1), times[times_before_dose:]))\n",
    "    \n",
    "    plt.plot(times, solve_2_comp(dose, [Vol_C, Cl, Vol_perif, Q_perif], times), label='Analytical')\n",
    "    plt.plot(int_times, PK_iv_result(dose, 2, [Vol_C, Cl, Vol_perif, Q_perif], int_times)[:,0], label = 'ODEint')\n",
    "    plt.legend()\n",
    "    plt.show"
   ]
  },
  {
   "cell_type": "markdown",
   "metadata": {},
   "source": [
    "## Pharmacodynamics"
   ]
  },
  {
   "cell_type": "code",
   "execution_count": 20,
   "metadata": {},
   "outputs": [],
   "source": [
    "def proliferation_dydt(current_state):\n",
    "    dProl_dt = (k_prol*current_state[\"Prol\"]\n",
    "                *(1-E_Drug(current_state[\"Conc\"]))\n",
    "                *np.power((Circ_0/current_state[\"Circ\"]), gamma)\n",
    "                - k_tr*current_state[\"Prol\"])\n",
    "    return dProl_dt\n",
    "    \n",
    "def transit_dydt(current_state):\n",
    "    dT1_dt = k_tr*current_state[\"Prol\"] - k_tr*current_state[\"T1\"]\n",
    "    dT2_dt = k_tr*current_state[\"T1\"] - k_tr*current_state[\"T2\"]\n",
    "    dT3_dt = k_tr*current_state[\"T2\"] - k_tr*current_state[\"T3\"]\n",
    "    return (dT1_dt, dT2_dt, dT3_dt)\n",
    "\n",
    "def circulation_dydt(current_state):\n",
    "    dCirc_dt = k_tr*current_state[\"T3\"] - k_circ*current_state[\"Circ\"]\n",
    "    return dCirc_dt\n",
    "\n",
    "def PD(y, t):\n",
    "    variables = [\"Prol\", \"T1\", \"T2\", \"T3\", \"Circ\"]\n",
    "    current_state = dict(zip(variables, y))\n",
    "    current_state[\"Conc\"] = drug_conc(t)\n",
    "    # print(current_state)\n",
    "    dProl_dt = proliferation_dydt(current_state)\n",
    "    dCirc_dt = circulation_dydt(current_state)\n",
    "    dT1_dt, dT2_dt, dT3_dt = transit_dydt(current_state)\n",
    "    return [dProl_dt, dT1_dt, dT2_dt, dT3_dt, dCirc_dt]"
   ]
  },
  {
   "cell_type": "code",
   "execution_count": 21,
   "metadata": {},
   "outputs": [],
   "source": [
    "def drug_conc(t):\n",
    "    t_half = 7.5\n",
    "    k = np.log(2)/t_half\n",
    "    total_drug = 375\n",
    "    C_ave = 1/72 * (total_drug - (1/k) * (1+np.exp(-72*k)))\n",
    "    if t<0:\n",
    "        conc = 0\n",
    "    elif t<72:\n",
    "        conc = C_ave*(1-np.exp(-k*t))\n",
    "    else:\n",
    "        conc = C_ave*np.exp(-k*(t-72))\n",
    "    return conc\n",
    "\n",
    "def E_Drug(conc):\n",
    "    return slope*conc\n",
    "    "
   ]
  },
  {
   "cell_type": "code",
   "execution_count": 22,
   "metadata": {},
   "outputs": [
    {
     "data": {
      "image/png": "[encoded data removed]",
      "text/plain": [
       "<Figure size 432x288 with 1 Axes>"
      ]
     },
     "metadata": {
      "needs_background": "light"
     },
     "output_type": "display_data"
    }
   ],
   "source": [
    "if __name__ == '__main__':\n",
    "    # Params:\n",
    "    Circ_0 = 5.45\n",
    "    MTT = 135\n",
    "    gamma = 0.174\n",
    "    slope = 0.126\n",
    "\n",
    "    n = 3\n",
    "    k_tr = (n+1)/MTT\n",
    "    k_prol = k_tr\n",
    "    k_circ = k_tr\n",
    "\n",
    "\n",
    "    times = np.linspace(-48,1440,1488)\n",
    "    y_0 = [Circ_0]*5\n",
    "    results = integrate.odeint(PD, y_0, times)\n",
    "    plt.plot(times/24, results[:, 4])\n",
    "    plt.show"
   ]
  },
  {
   "cell_type": "code",
   "execution_count": null,
   "metadata": {},
   "outputs": [],
   "source": []
  }
 ],
 "metadata": {
  "kernelspec": {
   "display_name": "Python 3",
   "language": "python",
   "name": "python3"
  },
  "language_info": {
   "codemirror_mode": {
    "name": "ipython",
    "version": 3
   },
   "file_extension": ".py",
   "mimetype": "text/x-python",
   "name": "python",
   "nbconvert_exporter": "python",
   "pygments_lexer": "ipython3",
   "version": "3.7.4"
  }
 },
 "nbformat": 4,
 "nbformat_minor": 2
}
