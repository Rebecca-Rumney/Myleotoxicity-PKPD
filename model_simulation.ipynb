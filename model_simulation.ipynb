{
 "cells": [
  {
   "cell_type": "code",
   "execution_count": 17,
   "metadata": {},
   "outputs": [],
   "source": [
    "import numpy as np\n",
    "import matplotlib.pyplot as plt\n",
    "from scipy import integrate"
   ]
  },
  {
   "cell_type": "markdown",
   "metadata": {},
   "source": [
    "## PharmacoKinetics"
   ]
  },
  {
   "cell_type": "code",
   "execution_count": 18,
   "metadata": {},
   "outputs": [],
   "source": [
    "def central_dydt(current_state, params):\n",
    "    dC_dt = (params[\"k_dose\"]*current_state[\"dose\"]\n",
    "            + sum(params[\"k_perif\"]*current_state[\"peripheral\"])\n",
    "            - sum(params[\"k_perif\"]*current_state[\"central\"])\n",
    "            - params[\"Cl\"]*current_state[\"central\"])\n",
    "    return dC_dt\n",
    "\n",
    "def perif_dydt(current_state, params):\n",
    "    dP_dt = (params[\"k_perif\"]*current_state[\"central\"]\n",
    "            - params[\"k_perif\"]*current_state[\"peripheral\"])\n",
    "    return dP_dt\n",
    "\n",
    "def dose_iv(t):\n",
    "    return 0\n",
    "    \n",
    "def PK_iv_dydt(y, t, param_values, comp=2):\n",
    "    if comp==1:\n",
    "        current_state= {'central': y, \"peripheral\":np.asarray([])}\n",
    "        current_state[\"dose\"] = dose_iv(t)\n",
    "        params = {\"k_dose\" : 1, \"Cl\" : param_values[1], \"k_perif\" : np.asarray([])}\n",
    "        \n",
    "        dy_dt = central_dydt(current_state, params)\n",
    "        \n",
    "    else:\n",
    "        current_state= {'central': y[0], \"peripheral\":np.asarray(y[1:])}\n",
    "        current_state[\"dose\"] = dose_iv(t)\n",
    "        params= {\"k_dose\" : 1, \"Cl\" : param_values[1], \"k_perif\" : np.asarray(param_values[2:])}\n",
    "\n",
    "        dC_dt = central_dydt(current_state, params)\n",
    "        dP_dt = perif_dydt(current_state, params)\n",
    "        dy_dt = np.insert(dP_dt, [0], [dC_dt])\n",
    "    \n",
    "    return dy_dt\n",
    "\n",
    "def PK_iv_result(dose, num_comp, parameter, times):\n",
    "    Vol_C = parameter[0] #*1e-03\n",
    "    y_0 = [dose/Vol_C] +[0]*(num_comp-1)\n",
    "    results = integrate.odeint(PK_iv_dydt, y_0, times, args=(parameter, num_comp))\n",
    "    return results"
   ]
  },
  {
   "cell_type": "code",
   "execution_count": 19,
   "metadata": {},
   "outputs": [
    {
     "data": {
      "image/png": "[encoded data removed]",
      "text/plain": [
       "<Figure size 432x288 with 1 Axes>"
      ]
     },
     "metadata": {
      "needs_background": "light"
     },
     "output_type": "display_data"
    }
   ],
   "source": [
    "if __name__ == '__main__':\n",
    "    # Params:\n",
    "    k_dose = 1\n",
    "    k_perif = 0.5\n",
    "    Cl = 0.5\n",
    "    Vol_C = 2\n",
    "\n",
    "    dose = 5\n",
    "    time_span = 10\n",
    "    times = np.linspace(0,time_span,1000)\n",
    "    plt.plot(times, PK_iv_result(dose, 3, [Vol_C, Cl, k_perif, k_perif+0.02], times)[:,:])\n",
    "    plt.show"
   ]
  },
  {
   "cell_type": "markdown",
   "metadata": {},
   "source": [
    "## Pharmacodynamics"
   ]
  },
  {
   "cell_type": "code",
   "execution_count": 20,
   "metadata": {},
   "outputs": [],
   "source": [
    "def proliferation_dydt(current_state):\n",
    "    dProl_dt = (k_prol*current_state[\"Prol\"]\n",
    "                *(1-E_Drug(current_state[\"Conc\"]))\n",
    "                *np.power((Circ_0/current_state[\"Circ\"]), gamma)\n",
    "                - k_tr*current_state[\"Prol\"])\n",
    "    return dProl_dt\n",
    "    \n",
    "def transit_dydt(current_state):\n",
    "    dT1_dt = k_tr*current_state[\"Prol\"] - k_tr*current_state[\"T1\"]\n",
    "    dT2_dt = k_tr*current_state[\"T1\"] - k_tr*current_state[\"T2\"]\n",
    "    dT3_dt = k_tr*current_state[\"T2\"] - k_tr*current_state[\"T3\"]\n",
    "    return (dT1_dt, dT2_dt, dT3_dt)\n",
    "\n",
    "def circulation_dydt(current_state):\n",
    "    dCirc_dt = k_tr*current_state[\"T3\"] - k_circ*current_state[\"Circ\"]\n",
    "    return dCirc_dt\n",
    "\n",
    "def PD(y, t):\n",
    "    variables = [\"Prol\", \"T1\", \"T2\", \"T3\", \"Circ\"]\n",
    "    current_state = dict(zip(variables, y))\n",
    "    current_state[\"Conc\"] = drug_conc(t)\n",
    "    # print(current_state)\n",
    "    dProl_dt = proliferation_dydt(current_state)\n",
    "    dCirc_dt = circulation_dydt(current_state)\n",
    "    dT1_dt, dT2_dt, dT3_dt = transit_dydt(current_state)\n",
    "    return [dProl_dt, dT1_dt, dT2_dt, dT3_dt, dCirc_dt]"
   ]
  },
  {
   "cell_type": "code",
   "execution_count": 21,
   "metadata": {},
   "outputs": [],
   "source": [
    "def drug_conc(t):\n",
    "    t_half = 7.5\n",
    "    k = np.log(2)/t_half\n",
    "    total_drug = 375\n",
    "    C_ave = 1/72 * (total_drug - (1/k) * (1+np.exp(-72*k)))\n",
    "    if t<0:\n",
    "        conc = 0\n",
    "    elif t<72:\n",
    "        conc = C_ave*(1-np.exp(-k*t))\n",
    "    else:\n",
    "        conc = C_ave*np.exp(-k*(t-72))\n",
    "    return conc\n",
    "\n",
    "def E_Drug(conc):\n",
    "    return slope*conc\n",
    "    "
   ]
  },
  {
   "cell_type": "code",
   "execution_count": 22,
   "metadata": {},
   "outputs": [
    {
     "data": {
      "image/png": "[encoded data removed]",
      "text/plain": [
       "<Figure size 432x288 with 1 Axes>"
      ]
     },
     "metadata": {
      "needs_background": "light"
     },
     "output_type": "display_data"
    }
   ],
   "source": [
    "if __name__ == '__main__':\n",
    "    # Params:\n",
    "    Circ_0 = 5.45\n",
    "    MTT = 135\n",
    "    gamma = 0.174\n",
    "    slope = 0.126\n",
    "\n",
    "    n = 3\n",
    "    k_tr = (n+1)/MTT\n",
    "    k_prol = k_tr\n",
    "    k_circ = k_tr\n",
    "\n",
    "\n",
    "    times = np.linspace(-48,1440,1488)\n",
    "    y_0 = [Circ_0]*5\n",
    "    results = integrate.odeint(PD, y_0, times)\n",
    "    plt.plot(times/24, results[:, 4])\n",
    "    plt.show"
   ]
  },
  {
   "cell_type": "code",
   "execution_count": null,
   "metadata": {},
   "outputs": [],
   "source": []
  }
 ],
 "metadata": {
  "kernelspec": {
   "display_name": "Python 3",
   "language": "python",
   "name": "python3"
  },
  "language_info": {
   "codemirror_mode": {
    "name": "ipython",
    "version": 3
   },
   "file_extension": ".py",
   "mimetype": "text/x-python",
   "name": "python",
   "nbconvert_exporter": "python",
   "pygments_lexer": "ipython3",
   "version": "3.7.4"
  }
 },
 "nbformat": 4,
 "nbformat_minor": 2
}
