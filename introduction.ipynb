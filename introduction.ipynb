{
 "cells": [
  {
   "cell_type": "markdown",
   "id": "interstate-reality",
   "metadata": {},
   "source": [
    "# Pharmacokinetics and Pharmacodynamics of Myelotoxicity\n",
    "\n",
    "### Contents\n",
    "- **Introduction**\n",
    "    - [PK Modelling](#PK-Modelling)\n",
    "    - [PD Modelling](#PD-Modelling)\n",
    "    - [Parameter Inference](#Parameter-Inference)\n",
    "    - [Aims and Outline](#Aims-and-Outline)\n",
    "- [Exploring Data](data_explore.ipynb)\n",
    "- [PK model - Naive Pooled Inference](PK_naive_pooled_inference.ipynb)\n",
    "- [PD friberg model - Naive Pooled Inference](PD_naive_pooled_inference.ipynb)"
   ]
  },
  {
   "cell_type": "markdown",
   "id": "weird-apparatus",
   "metadata": {},
   "source": [
    "## Introduction"
   ]
  },
  {
   "cell_type": "markdown",
   "id": "retired-approach",
   "metadata": {},
   "source": [
    "### PK Modelling\n",
    "When given a drug, the body interacts with it, moving it into different tissues and ultimately removing it from the body altogether. For the drug to work, it needs to stay above a certain concentration to be effective but not too high, otherwise it becomes toxic. To optimise the dose, so that the concentration stays between these efficacy and toxicity limits, we can use mathematical models of the movement of the drug around the body. These are called Pharmacokinetic (PK) models.\n",
    "\n",
    "<img src=\"images/PKGeneral.svg\">\n",
    "\\caption{A) Diagram of the general n-compartment Pharmacokinetic model. The drug enters the body either through a Dosing compartment or straight into the blood stream, represented as the central compartment. It then moves in and out of different tissues, represented as peripheral compartments before being cleared from the central compartment. B) An example of the general model in A, of the two compartment model with no dosing compartment. }\n",
    "<!-- \\label{fig:generalPK} -->\n",
    "\n",
    "The general model used for Pharmacokinetics (PK) separates the body into a number of compartments, in which the drug can reside in, see [figure 1A]. There is the central compartment, usually representing the blood, and a number of peripheral compartments, representing different groups of tissues. The drug in the central compartment can be transferred to the peripheral compartments and vice versa, and is also cleared from the central compartment. Additionally, there may be a dosing compartment depending on the dose administration. For the $n$-compartment PK model, this produces equations,\n",
    "\n",
    "$$\n",
    "    \\frac{dD}{dt} = - Q_d\\left(\\frac{D}{V_d}\\right) \\\\\n",
    "    \\frac{dC}{dt} = Q_d\\left(\\frac{D}{V_d}\\right) - CL\\left(\\frac{C}{V_c}\\right) - \\sum_{i=1}^{n-1}Q_{i}\\left(\\frac{P_i}{V_i}, \\frac{C}{V_c}\\right) \\\\\n",
    "    \\frac{dP_i}{dt} = Q_{i}\\left(\\frac{P_i}{V_i}, \\frac{C}{V_c}\\right)   0\\le i \\le n-1\n",
    "$$\n",
    "where $D$, $C$ and $P_i$ are the amounts of drug in the dosing, central and $i$-th peripheral compartments respectively; $V_d$, $V_c$ and $V_i$ are the volumes of the dosing, central and $i$-th peripheral compartments respectively; $Q_{i}$, $Q_d$ and $CL$ are functions describing the flux of the drug into the $i$-th peripheral compartment, from the dosing compartment and lost through clearance respectively.  [\\cite{mould2012, Mould2013, nielsen2013}]"
   ]
  },
  {
   "cell_type": "markdown",
   "id": "advisory-vault",
   "metadata": {},
   "source": [
    "### PD Modelling"
   ]
  },
  {
   "cell_type": "markdown",
   "id": "collective-heather",
   "metadata": {},
   "source": [
    "### Parameter Inference\n",
    "To use mathematical modelling to predict real outcomes, we need to estimate the real parameters of the model, $\\theta = \\left(V_d, Q_d, V_c,...\\right)$. One way of finding these parameters is parameter estimation via optimisation. This method takes data previously collected and compares the real data points, $Y$, with simulated data points, $S_\\mathbf{x}$, from the model under proposed parameters, $\\mathbf{x} = \\left(\\hat{V_d}, \\hat{Q_d}, \\hat{V_c},...\\right)$. This is done by optimising an objective function, $f\\left(S_\\mathbf{x}, Y\\right)$ over the parameter space \\cite{Mould2013, nielsen2013}. It is also useful to find the possible distribution of parameter values, which can inform us of our certainty on the true value of the parameter, the sensitivity of the model to that parameter, and the possible distribution of real outcomes we would expect to see. To do this, we can employ Bayesian inference and Markov chain Monte Carlo (MCMC) to find the probability density function of the parameter space, $P\\left(\\mathbf{x}|Y\\right)$ \\cite{leil2014}.\n"
   ]
  },
  {
   "cell_type": "markdown",
   "id": "sacred-canada",
   "metadata": {},
   "source": [
    "### Aims and Outline\n",
    "<!-- The main goal of this report is to use the above methods to simulate the concentration-time curves of Docetaxel and other cancer treating drugs while analysing the effectiveness of these methods. We will begin by refining the general PK model to suit the drugs and data that we have. Then using simulated data, we will test and compare the parameter optimisation methods, the most successful of which, will then be used to infer the parameters on preclinical data. We will also use Bayesian inference on the simulated and preclinical data to observe the distribution of parameters.\n",
    " -->"
   ]
  },
  {
   "cell_type": "markdown",
   "id": "nasty-holocaust",
   "metadata": {},
   "source": [
    "Next Notebook: [Exploring Data](data_explore.ipynb)"
   ]
  },
  {
   "cell_type": "code",
   "execution_count": null,
   "id": "trying-pharmacy",
   "metadata": {},
   "outputs": [],
   "source": []
  }
 ],
 "metadata": {
  "kernelspec": {
   "display_name": "myenv",
   "language": "python",
   "name": "myenv"
  },
  "language_info": {
   "codemirror_mode": {
    "name": "ipython",
    "version": 3
   },
   "file_extension": ".py",
   "mimetype": "text/x-python",
   "name": "python",
   "nbconvert_exporter": "python",
   "pygments_lexer": "ipython3",
   "version": "3.8.10"
  }
 },
 "nbformat": 4,
 "nbformat_minor": 5
}
