{
 "cells": [
  {
   "cell_type": "markdown",
   "id": "identified-projector",
   "metadata": {},
   "source": [
    "# Model Comparison"
   ]
  },
  {
   "cell_type": "code",
   "execution_count": 24,
   "id": "linear-settle",
   "metadata": {},
   "outputs": [],
   "source": [
    "import pandas\n",
    "# from Myelotoxicity_pkpd.PK_model import PintsLinCompIV\n",
    "from Myelotoxicity_pkpd.Likelihoods import MultiplicativeGaussianLogLikelihood, GaussianLogLikelihood, ConstantAndMultiplicativeGaussianLogLikelihood\n",
    "from Myelotoxicity_pkpd.PD_model import PintsPDFriberg\n",
    "import pints\n",
    "# import pints.plot\n",
    "import pints.io\n",
    "import numpy as np\n",
    "import matplotlib.pyplot as plt\n",
    "# import plotly.express as px\n",
    "# import plotly.graph_objects as go\n",
    "# import plotly.figure_factory as ff\n",
    "import arviz as az\n",
    "import scipy"
   ]
  },
  {
   "cell_type": "code",
   "execution_count": 5,
   "id": "mighty-crawford",
   "metadata": {},
   "outputs": [],
   "source": [
    "drug = 'Docetaxel'\n",
    "dose = 10.0\n",
    "num_comp = 2\n",
    "observation_name = 'Platelets '"
   ]
  },
  {
   "cell_type": "markdown",
   "id": "prerequisite-jacob",
   "metadata": {},
   "source": [
    "## WAIC & PSIS-LOO"
   ]
  },
  {
   "cell_type": "markdown",
   "id": "veterinary-mouth",
   "metadata": {},
   "source": [
    "### Simulated Data"
   ]
  },
  {
   "cell_type": "code",
   "execution_count": 8,
   "id": "pregnant-holly",
   "metadata": {},
   "outputs": [],
   "source": [
    "# PD_actual_params = np.load(\"Data_and_parameters/pd_sim_actual_params_dose_2.npy\")\n",
    "# PD_param_names = [\"Circ_0\", \"MTT\", \"gamma\", \"slope\", \"sigma_base\", \"eta\", \"sigma_rel\"]\n",
    "# print(\"Parameters used for simulated data:\")\n",
    "# for i in range(0,len(PD_param_names)):\n",
    "#     print(PD_param_names[i] + \" = \" + str(PD_actual_params[i]))\n",
    "\n",
    "df = pandas.read_csv(\"./Data_and_parameters/pd_sim_data_dose_2\")\n",
    "observed = az.convert_to_inference_data(np.asarray(df['OBS']), group='observed_data')"
   ]
  },
  {
   "cell_type": "code",
   "execution_count": 19,
   "id": "special-maria",
   "metadata": {},
   "outputs": [],
   "source": [
    "model_types = [\"add\", \"mult_noeta\", \"comb_noeta\"]\n",
    "compare_dict = {}\n",
    "data_type = 'real'\n",
    "\n",
    "for model_type in model_types:\n",
    "    \n",
    "    samples = np.asarray(pints.io.load_samples('Data_and_parameters/PD_sim/MCMC_'+model_type+'_samples_chain', n=3))\n",
    "    pointwise = np.asarray(pints.io.load_samples('Data_and_parameters/PD_sim/MCMC_'+model_type+'_pointloglike_chain', n=3))\n",
    "    likelihood = az.convert_to_inference_data(pointwise, group='log_likelihood')\n",
    "    posterior = az.convert_to_inference_data(samples, group='posterior')\n",
    "    \n",
    "#     print('----------------------------------------------------------------------------------')\n",
    "#     print(model_type)\n",
    "#     print('----------------------------------------------------------------------------------')\n",
    "#     print(pints.MCMCSummary(samples))\n",
    "#     print('\\n')\n",
    "    \n",
    "    inference_data = az.concat(likelihood, posterior, observed)\n",
    "    compare_dict[model_type] = inference_data\n"
   ]
  },
  {
   "cell_type": "code",
   "execution_count": 27,
   "id": "southeast-seating",
   "metadata": {},
   "outputs": [
    {
     "name": "stderr",
     "output_type": "stream",
     "text": [
      "/home/rumney/Documents/Myleotoxicity/Myleotoxicity-PKPD/venv/lib/python3.8/site-packages/arviz/stats/stats.py:145: UserWarning: The default method used to estimate the weights for each model,has changed from BB-pseudo-BMA to stacking\n",
      "  warnings.warn(\n",
      "/home/rumney/Documents/Myleotoxicity/Myleotoxicity-PKPD/venv/lib/python3.8/site-packages/arviz/stats/stats.py:876: RuntimeWarning: overflow encountered in exp\n",
      "  weights = 1 / np.exp(len_scale - len_scale[:, None]).sum(axis=1)\n",
      "/home/rumney/Documents/Myleotoxicity/Myleotoxicity-PKPD/venv/lib/python3.8/site-packages/arviz/stats/stats.py:655: UserWarning: Estimated shape parameter of Pareto distribution is greater than 0.7 for one or more samples. You should consider using a more robust model, this is because importance sampling is less likely to work well if the marginal posterior and LOO posterior are very different. This is more likely to happen with a non-robust model and highly influential observations.\n",
      "  warnings.warn(\n",
      "/home/rumney/Documents/Myleotoxicity/Myleotoxicity-PKPD/venv/lib/python3.8/site-packages/arviz/stats/stats.py:876: RuntimeWarning: overflow encountered in exp\n",
      "  weights = 1 / np.exp(len_scale - len_scale[:, None]).sum(axis=1)\n",
      "/home/rumney/Documents/Myleotoxicity/Myleotoxicity-PKPD/venv/lib/python3.8/site-packages/numpy/core/_methods.py:47: RuntimeWarning: overflow encountered in reduce\n",
      "  return umr_sum(a, axis, dtype, out, keepdims, initial, where)\n",
      "/home/rumney/Documents/Myleotoxicity/Myleotoxicity-PKPD/venv/lib/python3.8/site-packages/arviz/stats/stats.py:655: UserWarning: Estimated shape parameter of Pareto distribution is greater than 0.7 for one or more samples. You should consider using a more robust model, this is because importance sampling is less likely to work well if the marginal posterior and LOO posterior are very different. This is more likely to happen with a non-robust model and highly influential observations.\n",
      "  warnings.warn(\n",
      "/home/rumney/Documents/Myleotoxicity/Myleotoxicity-PKPD/venv/lib/python3.8/site-packages/arviz/stats/stats.py:876: RuntimeWarning: overflow encountered in exp\n",
      "  weights = 1 / np.exp(len_scale - len_scale[:, None]).sum(axis=1)\n",
      "/home/rumney/Documents/Myleotoxicity/Myleotoxicity-PKPD/venv/lib/python3.8/site-packages/arviz/stats/stats.py:655: UserWarning: Estimated shape parameter of Pareto distribution is greater than 0.7 for one or more samples. You should consider using a more robust model, this is because importance sampling is less likely to work well if the marginal posterior and LOO posterior are very different. This is more likely to happen with a non-robust model and highly influential observations.\n",
      "  warnings.warn(\n"
     ]
    },
    {
     "data": {
      "text/html": [
       "<div>\n",
       "<style scoped>\n",
       "    .dataframe tbody tr th:only-of-type {\n",
       "        vertical-align: middle;\n",
       "    }\n",
       "\n",
       "    .dataframe tbody tr th {\n",
       "        vertical-align: top;\n",
       "    }\n",
       "\n",
       "    .dataframe thead th {\n",
       "        text-align: right;\n",
       "    }\n",
       "</style>\n",
       "<table border=\"1\" class=\"dataframe\">\n",
       "  <thead>\n",
       "    <tr style=\"text-align: right;\">\n",
       "      <th></th>\n",
       "      <th>rank</th>\n",
       "      <th>loo</th>\n",
       "      <th>p_loo</th>\n",
       "      <th>d_loo</th>\n",
       "      <th>weight</th>\n",
       "      <th>se</th>\n",
       "      <th>dse</th>\n",
       "      <th>warning</th>\n",
       "      <th>loo_scale</th>\n",
       "    </tr>\n",
       "  </thead>\n",
       "  <tbody>\n",
       "    <tr>\n",
       "      <th>add</th>\n",
       "      <td>0</td>\n",
       "      <td>-955.630979</td>\n",
       "      <td>831.728873</td>\n",
       "      <td>0.000000</td>\n",
       "      <td>0.211743</td>\n",
       "      <td>183.350858</td>\n",
       "      <td>0.000000</td>\n",
       "      <td>True</td>\n",
       "      <td>log</td>\n",
       "    </tr>\n",
       "    <tr>\n",
       "      <th>comb_noeta</th>\n",
       "      <td>1</td>\n",
       "      <td>-1636.394557</td>\n",
       "      <td>1515.850686</td>\n",
       "      <td>680.763579</td>\n",
       "      <td>0.722973</td>\n",
       "      <td>676.389329</td>\n",
       "      <td>540.385894</td>\n",
       "      <td>True</td>\n",
       "      <td>log</td>\n",
       "    </tr>\n",
       "    <tr>\n",
       "      <th>mult_noeta</th>\n",
       "      <td>2</td>\n",
       "      <td>-4826.614530</td>\n",
       "      <td>4706.788425</td>\n",
       "      <td>3870.983551</td>\n",
       "      <td>0.065284</td>\n",
       "      <td>1974.371126</td>\n",
       "      <td>1894.607906</td>\n",
       "      <td>True</td>\n",
       "      <td>log</td>\n",
       "    </tr>\n",
       "  </tbody>\n",
       "</table>\n",
       "</div>"
      ],
      "text/plain": [
       "            rank          loo        p_loo        d_loo    weight  \\\n",
       "add            0  -955.630979   831.728873     0.000000  0.211743   \n",
       "comb_noeta     1 -1636.394557  1515.850686   680.763579  0.722973   \n",
       "mult_noeta     2 -4826.614530  4706.788425  3870.983551  0.065284   \n",
       "\n",
       "                     se          dse  warning loo_scale  \n",
       "add          183.350858     0.000000     True       log  \n",
       "comb_noeta   676.389329   540.385894     True       log  \n",
       "mult_noeta  1974.371126  1894.607906     True       log  "
      ]
     },
     "execution_count": 27,
     "metadata": {},
     "output_type": "execute_result"
    }
   ],
   "source": [
    "comparison = az.compare(compare_dict)\n",
    "comparison"
   ]
  },
  {
   "cell_type": "code",
   "execution_count": 29,
   "id": "occupied-gamma",
   "metadata": {},
   "outputs": [
    {
     "name": "stdout",
     "output_type": "stream",
     "text": [
      "mult_noeta\n",
      "\t z value = 2.043158131982357\n",
      "\t p value = 0.020518393420111587\n",
      "comb_noeta\n",
      "\t z value = 1.2597730366684867\n",
      "\t p value = 0.10387562461516808\n"
     ]
    }
   ],
   "source": [
    "model_type = \"mult_noeta\"\n",
    "z_value = comparison[\"d_loo\"][model_type] / comparison[\"dse\"][model_type]\n",
    "p_value = scipy.stats.norm.sf(abs(z_value))\n",
    "print(model_type)\n",
    "print(\"\\t z value =\", z_value)\n",
    "print(\"\\t p value =\", p_value)\n",
    "\n",
    "model_type = \"comb_noeta\"\n",
    "z_value = comparison[\"d_loo\"][model_type] / comparison[\"dse\"][model_type]\n",
    "p_value = scipy.stats.norm.sf(abs(z_value))\n",
    "print(model_type)\n",
    "print(\"\\t z value =\", z_value)\n",
    "print(\"\\t p value =\", p_value)\n"
   ]
  },
  {
   "cell_type": "code",
   "execution_count": 21,
   "id": "capital-lingerie",
   "metadata": {},
   "outputs": [
    {
     "name": "stderr",
     "output_type": "stream",
     "text": [
      "/home/rumney/Documents/Myleotoxicity/Myleotoxicity-PKPD/venv/lib/python3.8/site-packages/arviz/stats/stats.py:145: UserWarning: The default method used to estimate the weights for each model,has changed from BB-pseudo-BMA to stacking\n",
      "  warnings.warn(\n",
      "/home/rumney/Documents/Myleotoxicity/Myleotoxicity-PKPD/venv/lib/python3.8/site-packages/arviz/stats/stats.py:1405: UserWarning: For one or more samples the posterior variance of the log predictive densities exceeds 0.4. This could be indication of WAIC starting to fail. \n",
      "See http://arxiv.org/abs/1507.04544 for details\n",
      "  warnings.warn(\n",
      "/home/rumney/Documents/Myleotoxicity/Myleotoxicity-PKPD/venv/lib/python3.8/site-packages/arviz/stats/stats.py:1405: UserWarning: For one or more samples the posterior variance of the log predictive densities exceeds 0.4. This could be indication of WAIC starting to fail. \n",
      "See http://arxiv.org/abs/1507.04544 for details\n",
      "  warnings.warn(\n",
      "/home/rumney/Documents/Myleotoxicity/Myleotoxicity-PKPD/venv/lib/python3.8/site-packages/arviz/stats/stats.py:1405: UserWarning: For one or more samples the posterior variance of the log predictive densities exceeds 0.4. This could be indication of WAIC starting to fail. \n",
      "See http://arxiv.org/abs/1507.04544 for details\n",
      "  warnings.warn(\n"
     ]
    },
    {
     "data": {
      "text/html": [
       "<div>\n",
       "<style scoped>\n",
       "    .dataframe tbody tr th:only-of-type {\n",
       "        vertical-align: middle;\n",
       "    }\n",
       "\n",
       "    .dataframe tbody tr th {\n",
       "        vertical-align: top;\n",
       "    }\n",
       "\n",
       "    .dataframe thead th {\n",
       "        text-align: right;\n",
       "    }\n",
       "</style>\n",
       "<table border=\"1\" class=\"dataframe\">\n",
       "  <thead>\n",
       "    <tr style=\"text-align: right;\">\n",
       "      <th></th>\n",
       "      <th>rank</th>\n",
       "      <th>waic</th>\n",
       "      <th>p_waic</th>\n",
       "      <th>d_waic</th>\n",
       "      <th>weight</th>\n",
       "      <th>se</th>\n",
       "      <th>dse</th>\n",
       "      <th>warning</th>\n",
       "      <th>waic_scale</th>\n",
       "    </tr>\n",
       "  </thead>\n",
       "  <tbody>\n",
       "    <tr>\n",
       "      <th>comb_noeta</th>\n",
       "      <td>0</td>\n",
       "      <td>-333.735949</td>\n",
       "      <td>213.192078</td>\n",
       "      <td>0.000000</td>\n",
       "      <td>9.016358e-01</td>\n",
       "      <td>72.365357</td>\n",
       "      <td>0.000000</td>\n",
       "      <td>True</td>\n",
       "      <td>log</td>\n",
       "    </tr>\n",
       "    <tr>\n",
       "      <th>mult_noeta</th>\n",
       "      <td>1</td>\n",
       "      <td>-1001.577303</td>\n",
       "      <td>881.751198</td>\n",
       "      <td>667.841354</td>\n",
       "      <td>9.028581e-12</td>\n",
       "      <td>270.762385</td>\n",
       "      <td>208.213554</td>\n",
       "      <td>True</td>\n",
       "      <td>log</td>\n",
       "    </tr>\n",
       "    <tr>\n",
       "      <th>add</th>\n",
       "      <td>2</td>\n",
       "      <td>-1591.217913</td>\n",
       "      <td>1467.315808</td>\n",
       "      <td>1257.481964</td>\n",
       "      <td>9.836425e-02</td>\n",
       "      <td>656.952722</td>\n",
       "      <td>590.558038</td>\n",
       "      <td>True</td>\n",
       "      <td>log</td>\n",
       "    </tr>\n",
       "  </tbody>\n",
       "</table>\n",
       "</div>"
      ],
      "text/plain": [
       "            rank         waic       p_waic       d_waic        weight  \\\n",
       "comb_noeta     0  -333.735949   213.192078     0.000000  9.016358e-01   \n",
       "mult_noeta     1 -1001.577303   881.751198   667.841354  9.028581e-12   \n",
       "add            2 -1591.217913  1467.315808  1257.481964  9.836425e-02   \n",
       "\n",
       "                    se         dse  warning waic_scale  \n",
       "comb_noeta   72.365357    0.000000     True        log  \n",
       "mult_noeta  270.762385  208.213554     True        log  \n",
       "add         656.952722  590.558038     True        log  "
      ]
     },
     "execution_count": 21,
     "metadata": {},
     "output_type": "execute_result"
    }
   ],
   "source": [
    "comparison = az.compare(compare_dict, ic=\"waic\")\n",
    "comparison"
   ]
  },
  {
   "cell_type": "code",
   "execution_count": 26,
   "id": "dress-advocate",
   "metadata": {},
   "outputs": [
    {
     "name": "stdout",
     "output_type": "stream",
     "text": [
      "mult_noeta\n",
      "\t z value = 3.2074826055742145\n",
      "\t p value = 0.0006695107890988216\n",
      "add\n",
      "\t z value = 2.1293114046419968\n",
      "\t p value = 0.016614252430094092\n"
     ]
    }
   ],
   "source": [
    "model_type = \"mult_noeta\"\n",
    "z_value = comparison[\"d_waic\"][model_type] / comparison[\"dse\"][model_type]\n",
    "p_value = scipy.stats.norm.sf(abs(z_value))\n",
    "print(model_type)\n",
    "print(\"\\t z value =\", z_value)\n",
    "print(\"\\t p value =\", p_value)\n",
    "\n",
    "model_type = \"add\"\n",
    "z_value = comparison[\"d_waic\"][model_type] / comparison[\"dse\"][model_type]\n",
    "p_value = scipy.stats.norm.sf(abs(z_value))\n",
    "print(model_type)\n",
    "print(\"\\t z value =\", z_value)\n",
    "print(\"\\t p value =\", p_value)\n"
   ]
  },
  {
   "cell_type": "markdown",
   "id": "loving-premiere",
   "metadata": {},
   "source": [
    "### Pharmaceutical Data"
   ]
  },
  {
   "cell_type": "code",
   "execution_count": 39,
   "id": "adopted-reserve",
   "metadata": {},
   "outputs": [],
   "source": [
    "df = pandas.read_csv(\"./Data_and_parameters/PD_real/pd_real_data_refined_\" + drug+ \"_dose_\" + str(dose))\n",
    "observed = az.convert_to_inference_data(np.asarray(df['OBS']), group='observed_data')"
   ]
  },
  {
   "cell_type": "code",
   "execution_count": 46,
   "id": "exterior-spray",
   "metadata": {},
   "outputs": [],
   "source": [
    "model_types = {\"add\": \"Constant noise\", \"mult_noeta\" : \"Relative noise\", \"comb_noeta\" : \"Combined noise\"}\n",
    "compare_dict = {}\n",
    "data_type = 'real'\n",
    "\n",
    "for model_type in model_types:\n",
    "    \n",
    "    samples = np.asarray(pints.io.load_samples(\n",
    "        'Data_and_parameters/PD_real/MCMC_'+model_type+'_samples_dose_'+str(dose)+'_chain', \n",
    "        n=3\n",
    "    ))\n",
    "    pointwise = np.asarray(pints.io.load_samples(\n",
    "        'Data_and_parameters/PD_real/MCMC_'+model_type+'_pointloglike_dose_'+str(dose)+'_chain', \n",
    "        n=3\n",
    "    ))\n",
    "    likelihood = az.convert_to_inference_data(pointwise, group='log_likelihood')\n",
    "    posterior = az.convert_to_inference_data(samples, group='posterior')\n",
    "    \n",
    "#     print('----------------------------------------------------------------------------------')\n",
    "#     print(model_type)\n",
    "#     print('----------------------------------------------------------------------------------')\n",
    "#     print(pints.MCMCSummary(samples))\n",
    "#     print('\\n')\n",
    "    \n",
    "    inference_data = az.concat(likelihood, posterior, observed)\n",
    "    compare_dict[model_types[model_type]] = inference_data\n"
   ]
  },
  {
   "cell_type": "code",
   "execution_count": 47,
   "id": "subjective-height",
   "metadata": {},
   "outputs": [
    {
     "name": "stderr",
     "output_type": "stream",
     "text": [
      "/home/rumney/Documents/Myleotoxicity/Myleotoxicity-PKPD/venv/lib/python3.8/site-packages/arviz/stats/stats.py:145: UserWarning: The default method used to estimate the weights for each model,has changed from BB-pseudo-BMA to stacking\n",
      "  warnings.warn(\n",
      "/home/rumney/Documents/Myleotoxicity/Myleotoxicity-PKPD/venv/lib/python3.8/site-packages/arviz/stats/stats.py:655: UserWarning: Estimated shape parameter of Pareto distribution is greater than 0.7 for one or more samples. You should consider using a more robust model, this is because importance sampling is less likely to work well if the marginal posterior and LOO posterior are very different. This is more likely to happen with a non-robust model and highly influential observations.\n",
      "  warnings.warn(\n",
      "/home/rumney/Documents/Myleotoxicity/Myleotoxicity-PKPD/venv/lib/python3.8/site-packages/arviz/stats/stats.py:876: RuntimeWarning: overflow encountered in exp\n",
      "  weights = 1 / np.exp(len_scale - len_scale[:, None]).sum(axis=1)\n",
      "/home/rumney/Documents/Myleotoxicity/Myleotoxicity-PKPD/venv/lib/python3.8/site-packages/numpy/core/_methods.py:47: RuntimeWarning: overflow encountered in reduce\n",
      "  return umr_sum(a, axis, dtype, out, keepdims, initial, where)\n",
      "/home/rumney/Documents/Myleotoxicity/Myleotoxicity-PKPD/venv/lib/python3.8/site-packages/arviz/stats/stats.py:655: UserWarning: Estimated shape parameter of Pareto distribution is greater than 0.7 for one or more samples. You should consider using a more robust model, this is because importance sampling is less likely to work well if the marginal posterior and LOO posterior are very different. This is more likely to happen with a non-robust model and highly influential observations.\n",
      "  warnings.warn(\n",
      "/home/rumney/Documents/Myleotoxicity/Myleotoxicity-PKPD/venv/lib/python3.8/site-packages/arviz/stats/stats.py:876: RuntimeWarning: overflow encountered in exp\n",
      "  weights = 1 / np.exp(len_scale - len_scale[:, None]).sum(axis=1)\n",
      "/home/rumney/Documents/Myleotoxicity/Myleotoxicity-PKPD/venv/lib/python3.8/site-packages/arviz/stats/stats.py:655: UserWarning: Estimated shape parameter of Pareto distribution is greater than 0.7 for one or more samples. You should consider using a more robust model, this is because importance sampling is less likely to work well if the marginal posterior and LOO posterior are very different. This is more likely to happen with a non-robust model and highly influential observations.\n",
      "  warnings.warn(\n"
     ]
    },
    {
     "data": {
      "text/html": [
       "<div>\n",
       "<style scoped>\n",
       "    .dataframe tbody tr th:only-of-type {\n",
       "        vertical-align: middle;\n",
       "    }\n",
       "\n",
       "    .dataframe tbody tr th {\n",
       "        vertical-align: top;\n",
       "    }\n",
       "\n",
       "    .dataframe thead th {\n",
       "        text-align: right;\n",
       "    }\n",
       "</style>\n",
       "<table border=\"1\" class=\"dataframe\">\n",
       "  <thead>\n",
       "    <tr style=\"text-align: right;\">\n",
       "      <th></th>\n",
       "      <th>rank</th>\n",
       "      <th>loo</th>\n",
       "      <th>p_loo</th>\n",
       "      <th>d_loo</th>\n",
       "      <th>weight</th>\n",
       "      <th>se</th>\n",
       "      <th>dse</th>\n",
       "      <th>warning</th>\n",
       "      <th>loo_scale</th>\n",
       "    </tr>\n",
       "  </thead>\n",
       "  <tbody>\n",
       "    <tr>\n",
       "      <th>Combined noise</th>\n",
       "      <td>0</td>\n",
       "      <td>-173.164998</td>\n",
       "      <td>44.983376</td>\n",
       "      <td>0.000000</td>\n",
       "      <td>1.661112e-01</td>\n",
       "      <td>15.354781</td>\n",
       "      <td>0.000000</td>\n",
       "      <td>True</td>\n",
       "      <td>log</td>\n",
       "    </tr>\n",
       "    <tr>\n",
       "      <th>Relative noise</th>\n",
       "      <td>1</td>\n",
       "      <td>-180.504781</td>\n",
       "      <td>51.794150</td>\n",
       "      <td>7.339783</td>\n",
       "      <td>8.338888e-01</td>\n",
       "      <td>29.020542</td>\n",
       "      <td>30.681383</td>\n",
       "      <td>True</td>\n",
       "      <td>log</td>\n",
       "    </tr>\n",
       "    <tr>\n",
       "      <th>Constant noise</th>\n",
       "      <td>2</td>\n",
       "      <td>-711.488750</td>\n",
       "      <td>571.966213</td>\n",
       "      <td>538.323753</td>\n",
       "      <td>1.221245e-14</td>\n",
       "      <td>113.107509</td>\n",
       "      <td>98.560549</td>\n",
       "      <td>True</td>\n",
       "      <td>log</td>\n",
       "    </tr>\n",
       "  </tbody>\n",
       "</table>\n",
       "</div>"
      ],
      "text/plain": [
       "                rank         loo       p_loo       d_loo        weight  \\\n",
       "Combined noise     0 -173.164998   44.983376    0.000000  1.661112e-01   \n",
       "Relative noise     1 -180.504781   51.794150    7.339783  8.338888e-01   \n",
       "Constant noise     2 -711.488750  571.966213  538.323753  1.221245e-14   \n",
       "\n",
       "                        se        dse  warning loo_scale  \n",
       "Combined noise   15.354781   0.000000     True       log  \n",
       "Relative noise   29.020542  30.681383     True       log  \n",
       "Constant noise  113.107509  98.560549     True       log  "
      ]
     },
     "execution_count": 47,
     "metadata": {},
     "output_type": "execute_result"
    }
   ],
   "source": [
    "comparison = az.compare(compare_dict)\n",
    "comparison"
   ]
  },
  {
   "cell_type": "code",
   "execution_count": 42,
   "id": "specific-fusion",
   "metadata": {},
   "outputs": [
    {
     "name": "stdout",
     "output_type": "stream",
     "text": [
      "mult_noeta\n",
      "\t z value = 0.2392259696383931\n",
      "\t p value = 0.40546518317034047\n",
      "add\n",
      "\t z value = 5.4618583089823725\n",
      "\t p value = 2.3558804539665205e-08\n"
     ]
    }
   ],
   "source": [
    "model_type = \"mult_noeta\"\n",
    "z_value = comparison[\"d_loo\"][model_type] / comparison[\"dse\"][model_type]\n",
    "p_value = scipy.stats.norm.sf(abs(z_value))\n",
    "print(model_type)\n",
    "print(\"\\t z value =\", z_value)\n",
    "print(\"\\t p value =\", p_value)\n",
    "\n",
    "model_type = \"add\"\n",
    "z_value = comparison[\"d_loo\"][model_type] / comparison[\"dse\"][model_type]\n",
    "p_value = scipy.stats.norm.sf(abs(z_value))\n",
    "print(model_type)\n",
    "print(\"\\t z value =\", z_value)\n",
    "print(\"\\t p value =\", p_value)\n"
   ]
  },
  {
   "cell_type": "code",
   "execution_count": 43,
   "id": "suited-stuart",
   "metadata": {},
   "outputs": [
    {
     "name": "stderr",
     "output_type": "stream",
     "text": [
      "/home/rumney/Documents/Myleotoxicity/Myleotoxicity-PKPD/venv/lib/python3.8/site-packages/arviz/stats/stats.py:145: UserWarning: The default method used to estimate the weights for each model,has changed from BB-pseudo-BMA to stacking\n",
      "  warnings.warn(\n",
      "/home/rumney/Documents/Myleotoxicity/Myleotoxicity-PKPD/venv/lib/python3.8/site-packages/arviz/stats/stats.py:1405: UserWarning: For one or more samples the posterior variance of the log predictive densities exceeds 0.4. This could be indication of WAIC starting to fail. \n",
      "See http://arxiv.org/abs/1507.04544 for details\n",
      "  warnings.warn(\n",
      "/home/rumney/Documents/Myleotoxicity/Myleotoxicity-PKPD/venv/lib/python3.8/site-packages/arviz/stats/stats.py:1405: UserWarning: For one or more samples the posterior variance of the log predictive densities exceeds 0.4. This could be indication of WAIC starting to fail. \n",
      "See http://arxiv.org/abs/1507.04544 for details\n",
      "  warnings.warn(\n",
      "/home/rumney/Documents/Myleotoxicity/Myleotoxicity-PKPD/venv/lib/python3.8/site-packages/arviz/stats/stats.py:1405: UserWarning: For one or more samples the posterior variance of the log predictive densities exceeds 0.4. This could be indication of WAIC starting to fail. \n",
      "See http://arxiv.org/abs/1507.04544 for details\n",
      "  warnings.warn(\n"
     ]
    },
    {
     "data": {
      "text/html": [
       "<div>\n",
       "<style scoped>\n",
       "    .dataframe tbody tr th:only-of-type {\n",
       "        vertical-align: middle;\n",
       "    }\n",
       "\n",
       "    .dataframe tbody tr th {\n",
       "        vertical-align: top;\n",
       "    }\n",
       "\n",
       "    .dataframe thead th {\n",
       "        text-align: right;\n",
       "    }\n",
       "</style>\n",
       "<table border=\"1\" class=\"dataframe\">\n",
       "  <thead>\n",
       "    <tr style=\"text-align: right;\">\n",
       "      <th></th>\n",
       "      <th>rank</th>\n",
       "      <th>waic</th>\n",
       "      <th>p_waic</th>\n",
       "      <th>d_waic</th>\n",
       "      <th>weight</th>\n",
       "      <th>se</th>\n",
       "      <th>dse</th>\n",
       "      <th>warning</th>\n",
       "      <th>waic_scale</th>\n",
       "    </tr>\n",
       "  </thead>\n",
       "  <tbody>\n",
       "    <tr>\n",
       "      <th>mult_noeta</th>\n",
       "      <td>0</td>\n",
       "      <td>-183.805715</td>\n",
       "      <td>55.095083</td>\n",
       "      <td>0.000000</td>\n",
       "      <td>0.991777</td>\n",
       "      <td>20.343813</td>\n",
       "      <td>0.000000</td>\n",
       "      <td>True</td>\n",
       "      <td>log</td>\n",
       "    </tr>\n",
       "    <tr>\n",
       "      <th>comb_noeta</th>\n",
       "      <td>1</td>\n",
       "      <td>-259.931779</td>\n",
       "      <td>131.750157</td>\n",
       "      <td>76.126064</td>\n",
       "      <td>0.008223</td>\n",
       "      <td>51.709643</td>\n",
       "      <td>32.576889</td>\n",
       "      <td>True</td>\n",
       "      <td>log</td>\n",
       "    </tr>\n",
       "    <tr>\n",
       "      <th>add</th>\n",
       "      <td>2</td>\n",
       "      <td>-2563.864058</td>\n",
       "      <td>2424.341521</td>\n",
       "      <td>2380.058343</td>\n",
       "      <td>0.000000</td>\n",
       "      <td>805.427946</td>\n",
       "      <td>785.474949</td>\n",
       "      <td>True</td>\n",
       "      <td>log</td>\n",
       "    </tr>\n",
       "  </tbody>\n",
       "</table>\n",
       "</div>"
      ],
      "text/plain": [
       "            rank         waic       p_waic       d_waic    weight          se  \\\n",
       "mult_noeta     0  -183.805715    55.095083     0.000000  0.991777   20.343813   \n",
       "comb_noeta     1  -259.931779   131.750157    76.126064  0.008223   51.709643   \n",
       "add            2 -2563.864058  2424.341521  2380.058343  0.000000  805.427946   \n",
       "\n",
       "                   dse  warning waic_scale  \n",
       "mult_noeta    0.000000     True        log  \n",
       "comb_noeta   32.576889     True        log  \n",
       "add         785.474949     True        log  "
      ]
     },
     "execution_count": 43,
     "metadata": {},
     "output_type": "execute_result"
    }
   ],
   "source": [
    "comparison = az.compare(compare_dict, ic=\"waic\")\n",
    "comparison"
   ]
  },
  {
   "cell_type": "code",
   "execution_count": 44,
   "id": "loose-thesaurus",
   "metadata": {},
   "outputs": [
    {
     "name": "stdout",
     "output_type": "stream",
     "text": [
      "comb_noeta\n",
      "\t z value = 2.3368119852323805\n",
      "\t p value = 0.009724481184465795\n",
      "add\n",
      "\t z value = 3.030088159375842\n",
      "\t p value = 0.00122241182077949\n"
     ]
    }
   ],
   "source": [
    "model_type = \"comb_noeta\"\n",
    "z_value = comparison[\"d_waic\"][model_type] / comparison[\"dse\"][model_type]\n",
    "p_value = scipy.stats.norm.sf(abs(z_value))\n",
    "print(model_type)\n",
    "print(\"\\t z value =\", z_value)\n",
    "print(\"\\t p value =\", p_value)\n",
    "\n",
    "model_type = \"add\"\n",
    "z_value = comparison[\"d_waic\"][model_type] / comparison[\"dse\"][model_type]\n",
    "p_value = scipy.stats.norm.sf(abs(z_value))\n",
    "print(model_type)\n",
    "print(\"\\t z value =\", z_value)\n",
    "print(\"\\t p value =\", p_value)\n"
   ]
  },
  {
   "cell_type": "code",
   "execution_count": 52,
   "id": "median-spanish",
   "metadata": {},
   "outputs": [
    {
     "data": {
      "image/png": "[encoded data removed]",
      "text/plain": [
       "<Figure size 432x288 with 1 Axes>"
      ]
     },
     "metadata": {
      "needs_background": "light"
     },
     "output_type": "display_data"
    }
   ],
   "source": [
    "import numpy as np\n",
    "import matplotlib.pyplot as plt\n",
    "from scipy.stats import norm\n",
    "\n",
    "# Plot between -10 and 10 with .001 steps.\n",
    "x_axis = np.arange(-10, 10, 0.001)\n",
    "# Mean = 0, SD = 2.\n",
    "plt.plot(x_axis, norm.pdf(x_axis,0,2))\n",
    "plt.xlabel(\"Individual Parameter\")\n",
    "\n",
    "plt.savefig(\"normal_dist_ind.svg\")\n",
    "plt.show()"
   ]
  },
  {
   "cell_type": "code",
   "execution_count": null,
   "id": "scenic-diversity",
   "metadata": {},
   "outputs": [],
   "source": []
  }
 ],
 "metadata": {
  "kernelspec": {
   "display_name": "myenv",
   "language": "python",
   "name": "myenv"
  },
  "language_info": {
   "codemirror_mode": {
    "name": "ipython",
    "version": 3
   },
   "file_extension": ".py",
   "mimetype": "text/x-python",
   "name": "python",
   "nbconvert_exporter": "python",
   "pygments_lexer": "ipython3",
   "version": "3.8.10"
  }
 },
 "nbformat": 4,
 "nbformat_minor": 5
}
